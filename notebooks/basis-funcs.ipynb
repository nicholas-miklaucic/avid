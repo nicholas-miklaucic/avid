{
 "cells": [
  {
   "cell_type": "code",
   "execution_count": null,
   "metadata": {
    "metadata": {}
   },
   "outputs": [],
   "source": [
    "import numpy as np\n",
    "import jax.numpy as jnp\n",
    "import jax\n",
    "import pandas as pd\n",
    "import plotly.express as px\n",
    "import matplotlib.pyplot as plt\n",
    "import seaborn as sns\n",
    "import rho_plus as rp\n",
    "\n",
    "is_dark = True\n",
    "theme, cs = rp.mpl_setup(is_dark)\n",
    "rp.plotly_setup(is_dark)"
   ]
  },
  {
   "cell_type": "code",
   "execution_count": null,
   "metadata": {
    "metadata": {}
   },
   "outputs": [],
   "source": [
    "%cd /home/nicholas/programs/avid"
   ]
  },
  {
   "cell_type": "code",
   "execution_count": null,
   "metadata": {
    "metadata": {}
   },
   "outputs": [],
   "source": [
    "m = 56\n",
    "n = 128\n",
    "\n",
    "params = np.random.randn(len(ii)).clip(-3, 3) * 0.2\n",
    "rot = np.random.randn(n).clip(-3, 3) * 1\n",
    "\n",
    "def make_mat(params, rot):\n",
    "    mat = jnp.eye(m, n)\n",
    "    ii, jj = jnp.tril_indices_from(mat, k=-1)\n",
    "    mat = mat.at[ii, jj].add(params)\n",
    "\n",
    "    orth = jax.lax.linalg.householder_product(mat, rot)\n",
    "    orth = orth / jnp.linalg.norm(orth, axis=0)\n",
    "    return orth\n",
    "\n",
    "orth=make_mat(params, rot)\n",
    "sns.heatmap(orth, center=0, cmap='rho_diverging')"
   ]
  },
  {
   "cell_type": "code",
   "execution_count": null,
   "metadata": {
    "metadata": {}
   },
   "outputs": [],
   "source": [
    "from eins import EinsOp\n",
    "vs = np.random.randn(m, n)\n",
    "\n",
    "vvt = EinsOp('m n1, m n2 -> m n1 n2')(vs, vs)\n",
    "vtv = EinsOp('m n, m n -> m 1 1')(vs, vs)\n",
    "mats = jnp.eye(n, n) - 2 / vtv * vvt\n",
    "orth = jnp.linalg.multi_dot(mats)\n",
    "sns.heatmap(orth, center=0, cmap='rho_diverging')"
   ]
  },
  {
   "cell_type": "code",
   "execution_count": null,
   "metadata": {},
   "outputs": [],
   "source": [
    "N_GRID = 24\n",
    "\n",
    "data = eqx.tree_deserialise_leaves('precomputed/densities/batch1.eqx',\n",
    "                            {'density': jnp.zeros((52, N_GRID ** 3), dtype=jnp.float32),\n",
    "                             'species': jnp.zeros((52, N_GRID ** 3), dtype=jnp.int16)})"
   ]
  },
  {
   "cell_type": "code",
   "execution_count": null,
   "metadata": {},
   "outputs": [],
   "source": [
    "import functools as ft\n",
    "from einops import rearrange, reduce\n",
    "\n",
    "grid_vals = jnp.linspace(0, 1, N_GRID + 1)[:-1]\n",
    "\n",
    "xx, yy, zz = jnp.meshgrid(grid_vals, grid_vals, grid_vals)\n",
    "xyz = rearrange(jnp.array([xx, yy, zz]), 'd n1 n2 n3 -> (n1 n2 n3) d')\n",
    "\n",
    "dens = data['density'][0]\n",
    "\n",
    "cmap = rp.list_aquaria if is_dark else rp.list_cabana\n",
    "\n",
    "def plot(dens, n_skip=2, thresh=0.1, cmap=cmap):\n",
    "    bg_mask = abs(dens) > thresh\n",
    "    skip_mask = jnp.all(jnp.round(xyz * N_GRID) % n_skip == 0, axis=1)\n",
    "    mask = skip_mask & bg_mask\n",
    "    return px.scatter_3d(\n",
    "        x=xyz[mask, 0],\n",
    "        y=xyz[mask, 1],\n",
    "        z=xyz[mask, 2],\n",
    "        color=dens[mask],\n",
    "        # color=np.array(species[mask]).astype('str'),\n",
    "        color_continuous_scale=cmap,\n",
    "        range_x=[0, 1], range_y=[0, 1], range_z=[0, 1],\n",
    "        opacity=1,\n",
    "    )\n",
    "\n",
    "plot(dens, n_skip=2)"
   ]
  },
  {
   "cell_type": "code",
   "execution_count": null,
   "metadata": {},
   "outputs": [],
   "source": [
    "from jaxtyping import Array, Float\n",
    "from jax.scipy import special\n",
    "\n",
    "@eqx.filter_jit\n",
    "def choose(x, y):\n",
    "    return jnp.exp(special.gammaln(x + 1) - special.gammaln(y + 1) - special.gammaln(x - y + 1))\n",
    "\n",
    "@eqx.filter_jit\n",
    "def legendre_poly_coef(n, k):\n",
    "    return choose(n, k) * choose(n + k, k)\n",
    "\n",
    "@eqx.filter_vmap\n",
    "@eqx.filter_jit\n",
    "def legendre_poly(x: Float[Array, ''], n: int):\n",
    "    kk = jnp.arange(n + 1)\n",
    "    return jnp.dot(((x - 1) / 2) ** kk, legendre_poly_coef(n, kk))\n",
    "\n",
    "\n",
    "xx = jnp.linspace(-1, 1, 100)\n",
    "for n in range(10):\n",
    "    plt.plot(xx, legendre_poly(xx, n), label=f'n = {n}')\n",
    "\n",
    "plt.legend()"
   ]
  },
  {
   "cell_type": "code",
   "execution_count": null,
   "metadata": {},
   "outputs": [],
   "source": [
    "xx = jnp.linspace(0, 2, 200)\n",
    "plt.subplots(figsize=(15, 6))\n",
    "for n in range(0, 7, 1):\n",
    "    plt.plot(xx, jnp.cos(n * (xx * 2 - 1) * jnp.pi) ** 2, label=f'n = {n}', lw=1)\n",
    "\n",
    "plt.legend()"
   ]
  },
  {
   "cell_type": "code",
   "execution_count": null,
   "metadata": {},
   "outputs": [],
   "source": [
    "ncheby = 9\n",
    "nnn = jnp.mgrid[:ncheby, :ncheby, :ncheby][:, ::1, ::1, ::1]\n",
    "nnn = jnp.array(rearrange(nnn, 'd n1 n2 n3 -> n1 n2 n3 d'))\n",
    "nnn = nnn[:, :, :, None, :]\n",
    "\n",
    "basis = jnp.cos(nnn * (xyz * 2 - 1) * jnp.pi)\n",
    "basis.shape"
   ]
  },
  {
   "cell_type": "code",
   "execution_count": null,
   "metadata": {},
   "outputs": [],
   "source": [
    "cheby = basis.prod(axis=-1)\n",
    "cheby = cheby"
   ]
  },
  {
   "cell_type": "code",
   "execution_count": null,
   "metadata": {},
   "outputs": [],
   "source": [
    "coefs = jnp.dot(cheby, dens) / jnp.sum(cheby ** 2, axis=-1)\n",
    "coefs.shape"
   ]
  },
  {
   "cell_type": "code",
   "execution_count": null,
   "metadata": {},
   "outputs": [],
   "source": [
    "from einops import einsum\n",
    "yhat = einsum(coefs, cheby, 'n1 n2 n3, n1 n2 n3 npt -> npt')\n",
    "plot(yhat)"
   ]
  },
  {
   "cell_type": "code",
   "execution_count": null,
   "metadata": {},
   "outputs": [],
   "source": [
    "plot(2 * dens - 1)"
   ]
  },
  {
   "cell_type": "code",
   "execution_count": null,
   "metadata": {},
   "outputs": [],
   "source": [
    "jnp.mean(jnp.abs(yhat - dens))"
   ]
  },
  {
   "cell_type": "code",
   "execution_count": null,
   "metadata": {},
   "outputs": [],
   "source": [
    "sns.displot(yhat - dens)"
   ]
  },
  {
   "cell_type": "code",
   "execution_count": null,
   "metadata": {},
   "outputs": [],
   "source": []
  }
 ],
 "metadata": {
  "kernelspec": {
   "display_name": "avid",
   "language": "python",
   "name": "python3"
  },
  "language_info": {
   "codemirror_mode": {
    "name": "ipython",
    "version": 3
   },
   "file_extension": ".py",
   "mimetype": "text/x-python",
   "name": "python",
   "nbconvert_exporter": "python",
   "pygments_lexer": "ipython3",
   "version": "3.12.0"
  }
 },
 "nbformat": 4,
 "nbformat_minor": 2
}

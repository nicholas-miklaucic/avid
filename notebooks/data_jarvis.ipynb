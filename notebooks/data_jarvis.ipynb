{
 "cells": [
  {
   "cell_type": "code",
   "execution_count": null,
   "metadata": {
    "metadata": {}
   },
   "outputs": [],
   "source": [
    "import numpy as np\n",
    "import jax.numpy as jnp\n",
    "import jax\n",
    "import pandas as pd\n",
    "import plotly.express as px\n",
    "import matplotlib.pyplot as plt\n",
    "import seaborn as sns\n",
    "import rho_plus as rp\n",
    "\n",
    "is_dark = True\n",
    "theme, cs = rp.mpl_setup(is_dark)\n",
    "rp.plotly_setup(is_dark)"
   ]
  },
  {
   "cell_type": "code",
   "execution_count": 3,
   "metadata": {
    "metadata": {}
   },
   "outputs": [
    {
     "name": "stdout",
     "output_type": "stream",
     "text": [
      "/home/nmiklaucic/avid\n"
     ]
    }
   ],
   "source": [
    "%cd ~/avid"
   ]
  },
  {
   "cell_type": "code",
   "execution_count": null,
   "metadata": {},
   "outputs": [],
   "source": [
    "from jarvis.db.figshare import data\n",
    "\n",
    "data3d = data('dft_3d')"
   ]
  },
  {
   "cell_type": "code",
   "execution_count": null,
   "metadata": {},
   "outputs": [],
   "source": [
    "df = pd.DataFrame(data3d)\n",
    "df.head()"
   ]
  },
  {
   "cell_type": "code",
   "execution_count": null,
   "metadata": {},
   "outputs": [],
   "source": [
    "from jarvis.core.atoms import Atoms\n",
    "from pymatgen.io.jarvis import JarvisAtomsAdaptor\n",
    "\n",
    "df['atoms'] = [JarvisAtomsAdaptor.get_structure(Atoms.from_dict(a)) for a in df['atoms']]\n",
    "df.head()"
   ]
  },
  {
   "cell_type": "code",
   "execution_count": null,
   "metadata": {},
   "outputs": [],
   "source": [
    "for col in df.columns:\n",
    "    if 'na' in df[col].values:\n",
    "        try:\n",
    "            df[col] = pd.to_numeric(df[col].replace('na', np.nan))\n",
    "        except (TypeError, ValueError):\n",
    "            print(col)\n",
    "\n",
    "df.select_dtypes(include='number')"
   ]
  },
  {
   "cell_type": "code",
   "execution_count": null,
   "metadata": {},
   "outputs": [],
   "source": [
    "from pymatgen.core import Composition\n",
    "df['spg_number'] = df['spg_number'].astype(int)\n",
    "df['formula'] = [Composition(f) for f in df['formula']]\n",
    "df['num_spec'] = [len(f.elements) for f in df['formula']]\n",
    "print(df.shape)\n",
    "df.head()"
   ]
  },
  {
   "cell_type": "code",
   "execution_count": null,
   "metadata": {},
   "outputs": [],
   "source": [
    "col_nans = df.select_dtypes('number').isna().mean(axis=0).sort_values()\n",
    "col_nans"
   ]
  },
  {
   "cell_type": "code",
   "execution_count": null,
   "metadata": {},
   "outputs": [],
   "source": [
    "df['magmom'] = np.where(df.eval('magmom_outcar < 0'), df['magmom_oszicar'], df['magmom_outcar'])\n",
    "print(df['magmom'].isna().mean())\n",
    "df['magmom'].quantile(np.linspace(0, 1, 9))"
   ]
  },
  {
   "cell_type": "code",
   "execution_count": null,
   "metadata": {},
   "outputs": [],
   "source": [
    "clean = df.dropna(axis=1, thresh=0.94 * len(df.index))\n",
    "clean = clean.drop(columns=['magmom_outcar', 'spg_symbol', 'jid', 'func', 'effective_masses_300K', 'typ', 'spg', 'raw_files', 'reference', 'search', 'elastic_tensor', 'kpoint_length_unit', 'icsd', 'xml_data_link', 'modes', 'encut', 'efg'])\n",
    "clean"
   ]
  },
  {
   "cell_type": "code",
   "execution_count": null,
   "metadata": {},
   "outputs": [],
   "source": [
    "clean = clean.query('crys == \"cubic\"').drop(columns=['crys'])\n",
    "clean.shape"
   ]
  },
  {
   "cell_type": "code",
   "execution_count": null,
   "metadata": {},
   "outputs": [],
   "source": [
    "pd.value_counts(clean['dimensionality'])"
   ]
  },
  {
   "cell_type": "code",
   "execution_count": null,
   "metadata": {},
   "outputs": [],
   "source": [
    "pd.value_counts(clean['nat'].clip(None, 20)).sort_index()[:20]"
   ]
  },
  {
   "cell_type": "code",
   "execution_count": null,
   "metadata": {},
   "outputs": [],
   "source": [
    "clean = clean.query('nat <= 14')"
   ]
  },
  {
   "cell_type": "code",
   "execution_count": null,
   "metadata": {},
   "outputs": [],
   "source": [
    "from collections import Counter\n",
    "\n",
    "els = Counter()\n",
    "\n",
    "for form in clean['formula']:\n",
    "    for el in form.elements:\n",
    "        els[el] += 1\n",
    "\n",
    "els = pd.Series(els)\n",
    "filtered = els.sort_values()[-72:]\n",
    "filtered"
   ]
  },
  {
   "cell_type": "code",
   "execution_count": null,
   "metadata": {},
   "outputs": [],
   "source": [
    "clean = clean[[all(e in filtered.index for e in f.elements) for f in clean['formula']]]\n",
    "clean"
   ]
  },
  {
   "cell_type": "code",
   "execution_count": null,
   "metadata": {},
   "outputs": [],
   "source": [
    "pd.value_counts(clean['num_spec']).sort_index()"
   ]
  },
  {
   "cell_type": "code",
   "execution_count": null,
   "metadata": {},
   "outputs": [],
   "source": [
    "clean = clean.query('num_spec <= 4')\n",
    "clean"
   ]
  },
  {
   "cell_type": "code",
   "execution_count": null,
   "metadata": {},
   "outputs": [],
   "source": [
    "clean['magmom'] = clean['magmom'].fillna(0)\n",
    "clean = clean.rename(columns={'optb88vdw_bandgap': 'bandgap', 'nat': 'num_atoms', 'spg_number': 'space_group', 'formation_energy_peratom': 'e_form', 'optb88vdw_total_energy': 'e_total'})\n",
    "clean"
   ]
  },
  {
   "cell_type": "code",
   "execution_count": null,
   "metadata": {},
   "outputs": [],
   "source": [
    "clean.sort_values('e_form')"
   ]
  },
  {
   "cell_type": "markdown",
   "metadata": {},
   "source": [
    "I'm mostly removing the last two N columns so the dataset size evenly divides 32, but they are outliers."
   ]
  },
  {
   "cell_type": "code",
   "execution_count": null,
   "metadata": {},
   "outputs": [],
   "source": [
    "clean = clean.query('e_form < 5')\n",
    "clean"
   ]
  },
  {
   "cell_type": "code",
   "execution_count": null,
   "metadata": {},
   "outputs": [],
   "source": [
    "clean.to_pickle('precomputed/jarvis_dft3d_cleaned/dataframe.pkl')"
   ]
  },
  {
   "cell_type": "code",
   "execution_count": null,
   "metadata": {},
   "outputs": [],
   "source": []
  },
  {
   "cell_type": "code",
   "execution_count": null,
   "metadata": {},
   "outputs": [],
   "source": []
  },
  {
   "cell_type": "code",
   "execution_count": 4,
   "metadata": {},
   "outputs": [],
   "source": [
    "clean = pd.read_pickle('precomputed/jarvis_dft3d_cleaned/dataframe.pkl')"
   ]
  },
  {
   "cell_type": "code",
   "execution_count": 93,
   "metadata": {},
   "outputs": [
    {
     "name": "stderr",
     "output_type": "stream",
     "text": [
      "/tmp/ipykernel_3625538/2441825717.py:1: FutureWarning:\n",
      "\n",
      "pandas.value_counts is deprecated and will be removed in a future version. Use pd.Series(obj).value_counts() instead.\n",
      "\n"
     ]
    },
    {
     "data": {
      "text/plain": [
       "space_group\n",
       "225    6498\n",
       "221    3922\n",
       "216    3269\n",
       "227     680\n",
       "215     204\n",
       "229     131\n",
       "223     105\n",
       "198     104\n",
       "205     101\n",
       "220      69\n",
       "200      37\n",
       "224      25\n",
       "217      23\n",
       "199      17\n",
       "206       5\n",
       "204       4\n",
       "212       3\n",
       "213       2\n",
       "214       1\n",
       "Name: count, dtype: int64"
      ]
     },
     "execution_count": 93,
     "metadata": {},
     "output_type": "execute_result"
    }
   ],
   "source": [
    "pd.value_counts(clean['space_group'])"
   ]
  },
  {
   "cell_type": "markdown",
   "metadata": {},
   "source": [
    "No idea what radial basis makes sense. For now, I use a Gaussian scaled so 1 is the peak, with standard deviation equal to half of the atomic radius."
   ]
  },
  {
   "cell_type": "code",
   "execution_count": 5,
   "metadata": {},
   "outputs": [
    {
     "name": "stdout",
     "output_type": "stream",
     "text": [
      "72\n",
      "{Element H, Element Li, Element Be, Element B, Element C, Element N, Element O, Element F, Element Na, Element Mg, Element Al, Element Si, Element P, Element S, Element Cl, Element K, Element Ca, Element Sc, Element Ti, Element V, Element Cr, Element Mn, Element Fe, Element Co, Element Ni, Element Cu, Element Zn, Element Ga, Element Ge, Element As, Element Se, Element Br, Element Rb, Element Sr, Element Y, Element Zr, Element Nb, Element Mo, Element Tc, Element Ru, Element Rh, Element Pd, Element Ag, Element Cd, Element In, Element Sn, Element Sb, Element Te, Element Ba, Element La, Element Ce, Element Pr, Element Nd, Element Pm, Element Sm, Element Dy, Element Ho, Element Er, Element Tm, Element Yb, Element Lu, Element Hf, Element Ta, Element W, Element Os, Element Ir, Element Pt, Element Au, Element Hg, Element Tl, Element Pb, Element Bi}\n",
      "H Li Be B C N O F Na Mg Al Si P S Cl K Ca Sc Ti V Cr Mn Fe Co Ni Cu Zn Ga Ge As Se Br Rb Sr Y Zr Nb Mo Tc Ru Rh Pd Ag Cd In Sn Sb Te Ba La Ce Pr Nd Pm Sm Dy Ho Er Tm Yb Lu Hf Ta W Os Ir Pt Au Hg Tl Pb Bi\n"
     ]
    }
   ],
   "source": [
    "elements = set()\n",
    "for struct in clean['atoms']:\n",
    "    elements.update(set(struct.elements))\n",
    "\n",
    "print(len(elements))\n",
    "print(elements)\n",
    "\n",
    "sorted_elements = sorted(elements, key=lambda e: e.number)\n",
    "elem_vals = [elem.symbol for elem in sorted_elements]\n",
    "print(' '.join(elem_vals))"
   ]
  },
  {
   "cell_type": "code",
   "execution_count": 6,
   "metadata": {},
   "outputs": [
    {
     "data": {
      "text/plain": [
       "Array(0.9956138, dtype=float32)"
      ]
     },
     "execution_count": 6,
     "metadata": {},
     "output_type": "execute_result"
    }
   ],
   "source": [
    "from jaxtyping import Array, Float, PRNGKeyArray, Float32, Int\n",
    "import functools as ft\n",
    "from einops import rearrange, reduce\n",
    "import flax\n",
    "import flax.linen as nn\n",
    "from tensorflow_probability.substrates import jax as tfp\n",
    "tfd = tfp.distributions\n",
    "\n",
    "dist = tfd.GeneralizedNormal(0.5, 2, 2)\n",
    "\n",
    "N_GRID = 24\n",
    "num_cells=4\n",
    "grid_vals = jnp.linspace(0, 1, N_GRID + 1)[:-1]\n",
    "xx, yy, zz = jnp.meshgrid(grid_vals, grid_vals, grid_vals)\n",
    "xyz = rearrange(jnp.array([xx, yy, zz]), 'd n1 n2 n3 -> (n1 n2 n3) d')\n",
    "xx, yy, zz = jnp.meshgrid(*[jnp.arange(-num_cells, num_cells + 1, dtype=jnp.float32)\n",
    "                            for _ in range(3)])\n",
    "shifts = rearrange(jnp.array([xx, yy, zz]), 'd n1 n2 n3 -> (n1 n2 n3) d')\n",
    "dist.prob(xyz[None, :, :] + shifts[:, None, :]).prod(axis=2).sum(axis=0).mean()"
   ]
  },
  {
   "cell_type": "code",
   "execution_count": 7,
   "metadata": {},
   "outputs": [],
   "source": [
    "from pymatgen.core import Structure\n",
    "N_GRID = 24\n",
    "# https://journals.aps.org/prl/pdf/10.1103/PhysRevLett.108.058301\n",
    "power = 2.4\n",
    "eff_scale = jnp.array(0.7)\n",
    "num_cells = 4\n",
    "\n",
    "\n",
    "distr = tfd.GeneralizedNormal(0, 1, power)\n",
    "grid_vals = jnp.linspace(0, 1, N_GRID + 1)[:-1]\n",
    "xx, yy, zz = jnp.meshgrid(grid_vals, grid_vals, grid_vals)\n",
    "xyz = rearrange(jnp.array([xx, yy, zz]), 'd n1 n2 n3 -> (n1 n2 n3) d')\n",
    "\n",
    "@ft.partial(jax.vmap, in_axes=(0, None, None, None))\n",
    "@ft.partial(jax.jit, static_argnames=['distr', 'num_cells'])\n",
    "def atom_density(xyz: Float[Array, '3'], atom_xyz: Float[Array, '3'], atom_rad: Float[Array, ''],num_cells: int = 4, distr: tfd.Distribution = distr) -> Float[Array, '']:\n",
    "    \"\"\"Atom density.\n",
    "    xyz: Point at which to calculate density. Fractional coordinates.\n",
    "    atom_xyz: Atomic center. Cartesian coordinates.\n",
    "    num_cells: Controls how many cells are used to estimate the sum over all unit cells. Larger values provide slightly higher accuracy but take longer.\"\"\"\n",
    "    xx, yy, zz = jnp.meshgrid(*[jnp.arange(-num_cells, num_cells + 1, dtype=jnp.float32)\n",
    "                                for _ in range(3)])\n",
    "    shifts = rearrange(jnp.array([xx, yy, zz]), 'd n1 n2 n3 -> (n1 n2 n3) d')\n",
    "    zscores = (xyz + shifts - atom_xyz) / atom_rad\n",
    "    return jnp.sum(distr.prob(zscores).prod(axis=1) / distr.prob(0) ** 3)\n",
    "\n",
    "\n",
    "def parse_grid(struct: Structure) -> (Float[Array, 'n3'], Int[Array, 'n3']):\n",
    "    scale = struct.lattice.a\n",
    "    total_dens = 0\n",
    "    dens = jnp.zeros((N_GRID ** 3, len(elem_vals)))\n",
    "    for site in struct.sites:\n",
    "        specie = site.specie\n",
    "        elem_i = elem_vals.index(specie.symbol)\n",
    "        atom_dens = atom_density(xyz, site.frac_coords, specie.average_ionic_radius * eff_scale / scale, num_cells)\n",
    "        dens = dens.at[:, elem_i].set(dens[:, elem_i] + atom_dens)\n",
    "\n",
    "    total_dens = dens.sum(axis=1)\n",
    "    species = dens.argmax(axis=1)\n",
    "    return (dens, total_dens, species)\n",
    "\n",
    "struct = clean['atoms'].iloc[10]\n",
    "dens, total_dens, species = parse_grid(struct)"
   ]
  },
  {
   "cell_type": "code",
   "execution_count": 29,
   "metadata": {},
   "outputs": [
    {
     "data": {
      "text/plain": [
       "<seaborn.axisgrid.FacetGrid at 0x7f294c5224b0>"
      ]
     },
     "execution_count": 29,
     "metadata": {},
     "output_type": "execute_result"
    },
    {
     "data": {
      "image/png": "[encoded data removed]",
      "text/plain": [
       "<Figure size 500x500 with 1 Axes>"
      ]
     },
     "metadata": {},
     "output_type": "display_data"
    }
   ],
   "source": [
    "x = total_dens\n",
    "sns.displot(jax.scipy.special.logit(x.astype(jnp.bfloat16)).astype(jnp.float32) / 4 + 1, kde=True)\n",
    "# sns.displot(x)"
   ]
  },
  {
   "cell_type": "code",
   "execution_count": null,
   "metadata": {},
   "outputs": [],
   "source": [
    "n_skip = 2\n",
    "skip_mask = jnp.all(jnp.round(xyz * N_GRID) % n_skip == 0, axis=1)\n",
    "bg_mask = total_dens > 0.1\n",
    "mask = skip_mask & bg_mask\n",
    "px.scatter_3d(\n",
    "    x=xyz[mask, 0],\n",
    "    y=xyz[mask, 1],\n",
    "    z=xyz[mask, 2],\n",
    "    color=total_dens[mask],\n",
    "    # color=np.array(species[mask]).astype('str'),\n",
    "    color_continuous_scale=rp.list_sequential,\n",
    "    range_x=[0, 1], range_y=[0, 1], range_z=[0, 1],\n",
    "    opacity=1,\n",
    ")"
   ]
  },
  {
   "cell_type": "code",
   "execution_count": null,
   "metadata": {},
   "outputs": [],
   "source": [
    "px.scatter_3d(x=struct.frac_coords[:, 0], y=struct.frac_coords[:, 1], z=struct.frac_coords[:, 2], size=[site.specie.average_ionic_radius / struct.lattice.a for site in struct.sites], size_max=200,\n",
    "              range_x=[0, 1], range_y=[0, 1], range_z=[0, 1], color=[spec.symbol for spec in struct.species])"
   ]
  },
  {
   "cell_type": "code",
   "execution_count": 88,
   "metadata": {},
   "outputs": [
    {
     "name": "stderr",
     "output_type": "stream",
     "text": [
      "100%|██████████| 15200/15200 [03:01<00:00, 83.91it/s]\n"
     ]
    }
   ],
   "source": [
    "from tqdm import tqdm\n",
    "from flax.serialization import msgpack_serialize, msgpack_restore\n",
    "import gc\n",
    "\n",
    "make_data = lambda: {\n",
    "    'density': [],\n",
    "    'species': [],\n",
    "    'mask': [],\n",
    "    'space_group': [],\n",
    "    'e_form': [],\n",
    "    'bandgap': [],\n",
    "    'e_total': [],\n",
    "    'e_hull': [],\n",
    "    'magmom': [],\n",
    "    'cell_density': [],\n",
    "    'index': []\n",
    "}\n",
    "\n",
    "data = make_data()\n",
    "\n",
    "BATCH_SIZE = 32\n",
    "\n",
    "clean = clean.sort_index()\n",
    "\n",
    "rng = np.random.Generator(np.random.PCG64(29205))\n",
    "clean = clean.loc[rng.permutation(clean.index)]\n",
    "\n",
    "with jax.default_device(jax.devices('cuda')[1]):\n",
    "    for i, idx in tqdm(list(enumerate(clean.index))):\n",
    "        row = clean.loc[idx]\n",
    "        struct = row['atoms']\n",
    "        dens, _sum_dens, _spec = parse_grid(struct)\n",
    "        mask, species = jax.lax.top_k(dens.max(axis=0), max(clean['num_spec']))\n",
    "        mask = mask > 0\n",
    "        data['density'].append(dens[:, species].reshape(N_GRID, N_GRID, N_GRID, -1))\n",
    "        data['species'].append(species)\n",
    "        data['mask'].append(mask)\n",
    "        data['cell_density'].append(row['density'])\n",
    "        data['e_hull'].append(row['ehull'])\n",
    "        data['index'].append(idx)\n",
    "        for key in data.keys():\n",
    "            if key not in ['density'] and key in row.index:\n",
    "                data[key].append(row[key])\n",
    "\n",
    "        if (i + 1) % BATCH_SIZE == 0:\n",
    "            for col in ('species', 'space_group'):\n",
    "                data[col] = jnp.array(data[col], dtype=jnp.uint8)\n",
    "            for col in ('index',):\n",
    "                data[col] = jnp.array(data[col], dtype=jnp.uint32)\n",
    "            for col in ('mask',):\n",
    "                data[col] = jnp.array(data[col], dtype=jnp.bool)\n",
    "            for col in ('density', 'e_form', 'bandgap', 'e_total', 'e_hull', 'magmom', 'cell_density'):\n",
    "                data[col] = jnp.array(data[col], dtype=jnp.float32)\n",
    "\n",
    "            batch_ind = (i + 1) // BATCH_SIZE - 1\n",
    "\n",
    "            with open(f'precomputed/jarvis_dft3d_cleaned/batch{batch_ind}.mpk', 'wb') as out:\n",
    "                out.write(msgpack_serialize(data))\n",
    "\n",
    "            del data\n",
    "            data = make_data()\n"
   ]
  },
  {
   "cell_type": "code",
   "execution_count": null,
   "metadata": {},
   "outputs": [],
   "source": []
  },
  {
   "cell_type": "code",
   "execution_count": 1,
   "metadata": {},
   "outputs": [
    {
     "ename": "FileNotFoundError",
     "evalue": "[Errno 2] No such file or directory: 'precomputed/jarvis_dft3d_cleaned/batch1.mpk'",
     "output_type": "error",
     "traceback": [
      "\u001b[0;31m---------------------------------------------------------------------------\u001b[0m",
      "\u001b[0;31mFileNotFoundError\u001b[0m                         Traceback (most recent call last)",
      "\u001b[1;32m/home/nmiklaucic/avid/notebooks/data_jarvis.ipynb Cell 37\u001b[0m line \u001b[0;36m1\n\u001b[0;32m----> <a href='vscode-notebook-cell://ssh-remote%2Bpluto/home/nmiklaucic/avid/notebooks/data_jarvis.ipynb#X51sdnNjb2RlLXJlbW90ZQ%3D%3D?line=0'>1</a>\u001b[0m \u001b[39mwith\u001b[39;00m \u001b[39mopen\u001b[39;49m(\u001b[39m'\u001b[39;49m\u001b[39mprecomputed/jarvis_dft3d_cleaned/batch1.mpk\u001b[39;49m\u001b[39m'\u001b[39;49m, \u001b[39m'\u001b[39;49m\u001b[39mrb\u001b[39;49m\u001b[39m'\u001b[39;49m) \u001b[39mas\u001b[39;00m bat:\n\u001b[1;32m      <a href='vscode-notebook-cell://ssh-remote%2Bpluto/home/nmiklaucic/avid/notebooks/data_jarvis.ipynb#X51sdnNjb2RlLXJlbW90ZQ%3D%3D?line=1'>2</a>\u001b[0m     data2 \u001b[39m=\u001b[39m msgpack_restore(bat\u001b[39m.\u001b[39mread())\n",
      "File \u001b[0;32m~/miniconda3/envs/avid/lib/python3.12/site-packages/IPython/core/interactiveshell.py:324\u001b[0m, in \u001b[0;36m_modified_open\u001b[0;34m(file, *args, **kwargs)\u001b[0m\n\u001b[1;32m    317\u001b[0m \u001b[39mif\u001b[39;00m file \u001b[39min\u001b[39;00m {\u001b[39m0\u001b[39m, \u001b[39m1\u001b[39m, \u001b[39m2\u001b[39m}:\n\u001b[1;32m    318\u001b[0m     \u001b[39mraise\u001b[39;00m \u001b[39mValueError\u001b[39;00m(\n\u001b[1;32m    319\u001b[0m         \u001b[39mf\u001b[39m\u001b[39m\"\u001b[39m\u001b[39mIPython won\u001b[39m\u001b[39m'\u001b[39m\u001b[39mt let you open fd=\u001b[39m\u001b[39m{\u001b[39;00mfile\u001b[39m}\u001b[39;00m\u001b[39m by default \u001b[39m\u001b[39m\"\u001b[39m\n\u001b[1;32m    320\u001b[0m         \u001b[39m\"\u001b[39m\u001b[39mas it is likely to crash IPython. If you know what you are doing, \u001b[39m\u001b[39m\"\u001b[39m\n\u001b[1;32m    321\u001b[0m         \u001b[39m\"\u001b[39m\u001b[39myou can use builtins\u001b[39m\u001b[39m'\u001b[39m\u001b[39m open.\u001b[39m\u001b[39m\"\u001b[39m\n\u001b[1;32m    322\u001b[0m     )\n\u001b[0;32m--> 324\u001b[0m \u001b[39mreturn\u001b[39;00m io_open(file, \u001b[39m*\u001b[39;49margs, \u001b[39m*\u001b[39;49m\u001b[39m*\u001b[39;49mkwargs)\n",
      "\u001b[0;31mFileNotFoundError\u001b[0m: [Errno 2] No such file or directory: 'precomputed/jarvis_dft3d_cleaned/batch1.mpk'"
     ]
    }
   ],
   "source": [
    "with open('precomputed/jarvis_dft3d_cleaned/batch1.mpk', 'rb') as bat:\n",
    "    data2 = msgpack_restore(bat.read())"
   ]
  },
  {
   "cell_type": "code",
   "execution_count": null,
   "metadata": {},
   "outputs": [],
   "source": [
    "clean.head()"
   ]
  },
  {
   "cell_type": "code",
   "execution_count": 89,
   "metadata": {},
   "outputs": [],
   "source": [
    "import json\n",
    "metadata = {\n",
    "    'elements': elem_vals,\n",
    "    'power': power,\n",
    "    'eff_scale': eff_scale.item(),\n",
    "    'n_grid': N_GRID,\n",
    "    'batch_size': BATCH_SIZE,\n",
    "    'num_cells': num_cells,\n",
    "    'data_size': len(clean.index)\n",
    "}\n",
    "\n",
    "with open('precomputed/jarvis_dft3d_cleaned/metadata.json', 'w') as out:\n",
    "    json.dump(metadata, out)"
   ]
  },
  {
   "cell_type": "code",
   "execution_count": null,
   "metadata": {},
   "outputs": [],
   "source": []
  }
 ],
 "metadata": {
  "kernelspec": {
   "display_name": "avid",
   "language": "python",
   "name": "python3"
  },
  "language_info": {
   "codemirror_mode": {
    "name": "ipython",
    "version": 3
   },
   "file_extension": ".py",
   "mimetype": "text/x-python",
   "name": "python",
   "nbconvert_exporter": "python",
   "pygments_lexer": "ipython3",
   "version": "3.12.0"
  }
 },
 "nbformat": 4,
 "nbformat_minor": 2
}

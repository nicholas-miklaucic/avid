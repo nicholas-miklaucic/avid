{
 "cells": [
  {
   "cell_type": "code",
   "execution_count": null,
   "metadata": {},
   "outputs": [],
   "source": [
    "import numpy as np\n",
    "import jax.numpy as jnp\n",
    "import jax\n",
    "import pandas as pd\n",
    "import plotly.express as px\n",
    "import matplotlib.pyplot as plt\n",
    "import seaborn as sns\n",
    "import rho_plus as rp\n",
    "\n",
    "is_dark = False\n",
    "theme, cs = rp.mpl_setup(is_dark)\n",
    "rp.plotly_setup(is_dark)"
   ]
  },
  {
   "cell_type": "code",
   "execution_count": null,
   "metadata": {},
   "outputs": [],
   "source": [
    "%cd ~/programs/avid"
   ]
  },
  {
   "cell_type": "code",
   "execution_count": null,
   "metadata": {},
   "outputs": [],
   "source": [
    "from pathlib import Path\n",
    "import pyrallis\n",
    "from avid.config import MainConfig\n",
    "import orbax.checkpoint as ocp\n",
    "\n",
    "from avid.e_form_predictor import TrainingRun\n",
    "from avid.checkpointing import best_ckpt\n",
    "\n",
    "# run_dir = Path('logs') / '03-17:45_918'\n",
    "run_dir = Path('logs') / 'e_form_mae_481'\n",
    "\n",
    "with open(run_dir / 'config.toml') as conf_file:\n",
    "    config = pyrallis.cfgparsing.load(MainConfig, conf_file)\n",
    "\n",
    "ckpt = best_ckpt(run_dir)"
   ]
  },
  {
   "cell_type": "code",
   "execution_count": null,
   "metadata": {},
   "outputs": [],
   "source": [
    "from avid.utils import debug_structure\n",
    "\n",
    "\n",
    "debug_structure(ckpt);"
   ]
  },
  {
   "cell_type": "code",
   "execution_count": null,
   "metadata": {},
   "outputs": [],
   "source": []
  },
  {
   "cell_type": "code",
   "execution_count": null,
   "metadata": {},
   "outputs": [],
   "source": []
  }
 ],
 "metadata": {
  "kernelspec": {
   "display_name": "avid",
   "language": "python",
   "name": "python3"
  },
  "language_info": {
   "codemirror_mode": {
    "name": "ipython",
    "version": 3
   },
   "file_extension": ".py",
   "mimetype": "text/x-python",
   "name": "python",
   "nbconvert_exporter": "python",
   "pygments_lexer": "ipython3",
   "version": "3.12.0"
  }
 },
 "nbformat": 4,
 "nbformat_minor": 2
}

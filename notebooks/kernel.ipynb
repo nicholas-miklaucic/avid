{
 "cells": [
  {
   "cell_type": "code",
   "execution_count": 1,
   "metadata": {
    "metadata": {}
   },
   "outputs": [],
   "source": [
    "import matplotlib.pyplot as plt\n",
    "import seaborn as sns\n",
    "import rho_plus as rp\n",
    "import einops as ein\n",
    "import jax\n",
    "import jax.numpy as jnp\n",
    "import numpy as np\n",
    "\n",
    "is_dark = True\n",
    "theme, cs = rp.mpl_setup(is_dark)"
   ]
  },
  {
   "cell_type": "code",
   "execution_count": 2,
   "metadata": {
    "metadata": {}
   },
   "outputs": [
    {
     "data": {
      "text/plain": [
       "['P1',\n",
       " 'Pm',\n",
       " 'Cm',\n",
       " 'Pmm2',\n",
       " 'Pma2',\n",
       " 'Pba2',\n",
       " 'Cmm2',\n",
       " 'P4',\n",
       " 'P4mm',\n",
       " 'P4bm',\n",
       " 'P3',\n",
       " 'P3m1',\n",
       " 'P31m',\n",
       " 'P6',\n",
       " 'P6mm']"
      ]
     },
     "execution_count": 2,
     "metadata": {},
     "output_type": "execute_result"
    }
   ],
   "source": [
    "from pyxtal import Group\n",
    "from pymatgen.core import SymmOp\n",
    "\n",
    "plane_groups = []\n",
    "\n",
    "for sg in range(1, 231):\n",
    "    gp = Group(sg).Wyckoff_positions[0]\n",
    "    if all(np.allclose(op.affine_matrix[2], [0, 0, 1, 0]) for op in gp.ops):\n",
    "        plane_groups.append(Group(sg))\n",
    "\n",
    "[g.symbol for g in plane_groups]"
   ]
  },
  {
   "cell_type": "code",
   "execution_count": 3,
   "metadata": {
    "metadata": {}
   },
   "outputs": [
    {
     "data": {
      "text/plain": [
       "(989, 4425)"
      ]
     },
     "execution_count": 3,
     "metadata": {},
     "output_type": "execute_result"
    }
   ],
   "source": [
    "from collections import defaultdict\n",
    "\n",
    "all_wps = defaultdict(list)\n",
    "total = 0\n",
    "\n",
    "for sg in map(Group, range(1, 231)):\n",
    "    for op in sg.Wyckoff_positions[0].ops:\n",
    "        total += 1\n",
    "        all_wps[op.as_xyz_str()].append(sg.symbol)\n",
    "\n",
    "len(all_wps), total"
   ]
  },
  {
   "cell_type": "code",
   "execution_count": 4,
   "metadata": {
    "metadata": {}
   },
   "outputs": [
    {
     "data": {
      "text/plain": [
       "defaultdict(list,\n",
       "            {'x, y, z': ['P1',\n",
       "              'Pm',\n",
       "              'Cm',\n",
       "              'Pmm2',\n",
       "              'Pma2',\n",
       "              'Pba2',\n",
       "              'Cmm2',\n",
       "              'P4',\n",
       "              'P4mm',\n",
       "              'P4bm',\n",
       "              'P3',\n",
       "              'P3m1',\n",
       "              'P31m',\n",
       "              'P6',\n",
       "              'P6mm'],\n",
       "             'x, -y, z': ['Pm', 'Cm', 'Pmm2', 'Cmm2', 'P4mm'],\n",
       "             'x+1/2, y+1/2, z': ['Cm', 'Cmm2'],\n",
       "             'x+1/2, -y+1/2, z': ['Cm', 'Pba2', 'Cmm2', 'P4bm'],\n",
       "             '-x, -y, z': ['Pmm2',\n",
       "              'Pma2',\n",
       "              'Pba2',\n",
       "              'Cmm2',\n",
       "              'P4',\n",
       "              'P4mm',\n",
       "              'P4bm',\n",
       "              'P6',\n",
       "              'P6mm'],\n",
       "             '-x, y, z': ['Pmm2', 'Cmm2', 'P4mm'],\n",
       "             'x+1/2, -y, z': ['Pma2'],\n",
       "             '-x+1/2, y, z': ['Pma2'],\n",
       "             '-x+1/2, y+1/2, z': ['Pba2', 'Cmm2', 'P4bm'],\n",
       "             '-x+1/2, -y+1/2, z': ['Cmm2'],\n",
       "             '-y, x, z': ['P4', 'P4mm', 'P4bm'],\n",
       "             'y, -x, z': ['P4', 'P4mm', 'P4bm'],\n",
       "             '-y, -x, z': ['P4mm', 'P3m1', 'P6mm'],\n",
       "             'y, x, z': ['P4mm', 'P31m', 'P6mm'],\n",
       "             '-y+1/2, -x+1/2, z': ['P4bm'],\n",
       "             'y+1/2, x+1/2, z': ['P4bm'],\n",
       "             '-y, x-y, z': ['P3', 'P3m1', 'P31m', 'P6', 'P6mm'],\n",
       "             '-x+y, -x, z': ['P3', 'P3m1', 'P31m', 'P6', 'P6mm'],\n",
       "             '-x+y, y, z': ['P3m1', 'P6mm'],\n",
       "             'x, x-y, z': ['P3m1', 'P6mm'],\n",
       "             'x-y, -y, z': ['P31m', 'P6mm'],\n",
       "             '-x, -x+y, z': ['P31m', 'P6mm'],\n",
       "             'y, -x+y, z': ['P6', 'P6mm'],\n",
       "             'x-y, x, z': ['P6', 'P6mm']})"
      ]
     },
     "execution_count": 4,
     "metadata": {},
     "output_type": "execute_result"
    }
   ],
   "source": [
    "from collections import defaultdict\n",
    "\n",
    "wps = defaultdict(list)\n",
    "\n",
    "for pg in plane_groups:\n",
    "    for op in pg.Wyckoff_positions[0].ops:\n",
    "        wps[op.as_xyz_str()].append(pg.symbol)\n",
    "\n",
    "wps"
   ]
  },
  {
   "cell_type": "code",
   "execution_count": 5,
   "metadata": {
    "metadata": {}
   },
   "outputs": [
    {
     "name": "stdout",
     "output_type": "stream",
     "text": [
      "[[1. 0. 0. 0. 0. 0. 0. 0. 0. 0. 0. 0. 0. 0. 0. 0. 0. 0. 0. 0. 0. 0. 0. 0.]\n",
      " [1. 0. 1. 0. 0. 0. 0. 0. 0. 0. 0. 0. 0. 0. 0. 0. 0. 0. 0. 0. 0. 0. 0. 0.]\n",
      " [1. 0. 1. 0. 0. 1. 0. 0. 0. 0. 0. 0. 1. 0. 0. 0. 0. 0. 0. 0. 0. 0. 0. 0.]\n",
      " [1. 1. 1. 0. 0. 0. 1. 0. 0. 0. 0. 0. 0. 0. 0. 0. 0. 0. 0. 0. 0. 0. 0. 0.]\n",
      " [1. 1. 0. 0. 0. 0. 0. 0. 0. 0. 0. 0. 0. 0. 0. 0. 0. 0. 0. 1. 1. 0. 0. 0.]\n",
      " [1. 1. 0. 0. 0. 1. 0. 1. 0. 0. 0. 0. 0. 0. 0. 0. 0. 0. 0. 0. 0. 0. 0. 0.]\n",
      " [1. 1. 1. 0. 0. 1. 1. 1. 0. 0. 0. 0. 1. 0. 0. 0. 0. 0. 0. 0. 0. 1. 0. 0.]\n",
      " [1. 1. 0. 0. 0. 0. 0. 0. 1. 1. 0. 0. 0. 0. 0. 0. 0. 0. 0. 0. 0. 0. 0. 0.]\n",
      " [1. 1. 1. 0. 0. 0. 1. 0. 1. 1. 1. 1. 0. 0. 0. 0. 0. 0. 0. 0. 0. 0. 0. 0.]\n",
      " [1. 1. 0. 0. 0. 1. 0. 1. 1. 1. 0. 0. 0. 0. 0. 0. 0. 0. 0. 0. 0. 0. 1. 1.]\n",
      " [1. 0. 0. 1. 1. 0. 0. 0. 0. 0. 0. 0. 0. 0. 0. 0. 0. 0. 0. 0. 0. 0. 0. 0.]\n",
      " [1. 0. 0. 1. 1. 0. 0. 0. 0. 0. 1. 0. 0. 1. 1. 0. 0. 0. 0. 0. 0. 0. 0. 0.]\n",
      " [1. 0. 0. 1. 1. 0. 0. 0. 0. 0. 0. 1. 0. 0. 0. 1. 1. 0. 0. 0. 0. 0. 0. 0.]\n",
      " [1. 1. 0. 1. 1. 0. 0. 0. 0. 0. 0. 0. 0. 0. 0. 0. 0. 1. 1. 0. 0. 0. 0. 0.]\n",
      " [1. 1. 0. 1. 1. 0. 0. 0. 0. 0. 1. 1. 0. 1. 1. 1. 1. 1. 1. 0. 0. 0. 0. 0.]]\n"
     ]
    }
   ],
   "source": [
    "wp_names = sorted(wps.keys(), key=lambda x: -len(wps[x]))\n",
    "wp_m = [SymmOp.from_xyz_str(name).affine_matrix[:2, [0, 1, 3]] for name in wp_names]\n",
    "wp_m = jnp.array(wp_m)\n",
    "\n",
    "wp_w = np.zeros((len(plane_groups), len(wp_names)))\n",
    "\n",
    "groups = [pg.symbol for pg in plane_groups]\n",
    "\n",
    "for i, name in enumerate(wp_names):\n",
    "    for group_sym in wps[name]:\n",
    "        wp_w[groups.index(group_sym), i] = 1\n",
    "\n",
    "wp_w = jnp.array(wp_w)\n",
    "\n",
    "print(wp_w)"
   ]
  },
  {
   "cell_type": "code",
   "execution_count": 6,
   "metadata": {
    "metadata": {}
   },
   "outputs": [
    {
     "name": "stderr",
     "output_type": "stream",
     "text": [
      "2024-04-16 21:06:25.724798: W tensorflow/compiler/tf2tensorrt/utils/py_utils.cc:38] TF-TRT Warning: Could not find TensorRT\n"
     ]
    },
    {
     "name": "stdout",
     "output_type": "stream",
     "text": [
      "0.011783453144643501\n",
      "0.001667408370305424\n"
     ]
    }
   ],
   "source": [
    "import gpjax as gpx\n",
    "from tensorflow_probability.substrates import jax as tfp\n",
    "from dataclasses import dataclass\n",
    "from jaxtyping import (\n",
    "    Array,\n",
    "    Float,\n",
    ")\n",
    "import optax as ox\n",
    "from gpjax.base.param import param_field\n",
    "from simple_pytree import static_field\n",
    "from jax.nn import softmax\n",
    "\n",
    "jax.config.update('jax_enable_x64', True)\n",
    "\n",
    "tfb = tfp.bijectors\n",
    "\n",
    "weights = softmax(jnp.zeros(wp_w.shape[0]))\n",
    "\n",
    "wp_w_normed = wp_w / wp_w.sum(axis=1, keepdims=True)\n",
    "wp_pair = (wp_w[:, :, None] * wp_w[:, None, :]).reshape(-1, wp_w.shape[-1] ** 2)\n",
    "wp_pair_normed = wp_pair / wp_pair.sum(axis=1, keepdims=True)\n",
    "\n",
    "ndim = 2\n",
    "\n",
    "bias = wp_m[..., -1]\n",
    "linear = wp_m[..., :-1]\n",
    "# x_frac = ein.einsum(linear, x, 'wp d1 d2, d2 -> wp d1') + bias\n",
    "\n",
    "def orbit(pt):\n",
    "    return ein.einsum(linear, pt, 'wp d1 d2, d2 -> wp d1') + bias\n",
    "\n",
    "dtype = jnp.float64\n",
    "\n",
    "def field(f):\n",
    "    return param_field(jnp.array(f), bijector=tfb.SoftClip(0.9 * f, 1.1 * f))\n",
    "\n",
    "def period_kern(active_dims):\n",
    "    return gpx.kernels.Periodic(\n",
    "        active_dims=active_dims,\n",
    "        lengthscale=jnp.array(0.1),\n",
    "        period=jnp.array(1.0),\n",
    "        variance=jnp.array(0.2))\n",
    "\n",
    "@dataclass\n",
    "class GroupKernel(gpx.kernels.AbstractKernel):\n",
    "    group_weights: jax.Array = param_field(default=weights.astype(dtype), bijector=tfb.UnitVector())\n",
    "    x_kern: gpx.kernels.AbstractKernel = param_field(default=period_kern([0]), trainable=False)\n",
    "    y_kern: gpx.kernels.AbstractKernel = param_field(default=period_kern([1]), trainable=False)\n",
    "\n",
    "    def periodic_kern(self, x: jax.Array, y: jax.Array):\n",
    "        return self.x_kern(x, y) * self.y_kern(x, y)\n",
    "\n",
    "    def __call__(\n",
    "        self, x: Float[Array, \"1 D\"], y: Float[Array, \"1 D\"]\n",
    "    ) -> Float[Array, \"1\"]:\n",
    "        x_frac = orbit(x)\n",
    "        # x_frac = x[None, ...]\n",
    "        y_frac = orbit(y)\n",
    "        frac_kern = jax.vmap(jax.vmap(self.periodic_kern, in_axes=(0, None)), in_axes=(None, 0))(x_frac, y_frac).reshape(-1)\n",
    "        kern_totals = frac_kern\n",
    "        return self.group_weights @ wp_pair_normed @ kern_totals\n",
    "\n",
    "\n",
    "print(GroupKernel()(jnp.array([0.2, 0.2]), jnp.array([0.2, 0.2])))\n",
    "print(GroupKernel()(jnp.array([0.2, 0.1]), jnp.array([0.1, 0.2])))"
   ]
  },
  {
   "cell_type": "code",
   "execution_count": 7,
   "metadata": {
    "metadata": {}
   },
   "outputs": [
    {
     "name": "stdout",
     "output_type": "stream",
     "text": [
      "[0.1875 0.125 ]\n"
     ]
    },
    {
     "name": "stderr",
     "output_type": "stream",
     "text": [
      "2024-04-16 21:06:38.809594: W external/tsl/tsl/framework/bfc_allocator.cc:482] Allocator (GPU_0_bfc) ran out of memory trying to allocate 288.00MiB (rounded to 301989888)requested by op \n",
      "2024-04-16 21:06:38.809651: W external/tsl/tsl/framework/bfc_allocator.cc:494] *******************************************************************************_____________________\n",
      "E0416 21:06:38.809686 3862999 pjrt_stream_executor_client.cc:2809] Execution of replica 0 failed: RESOURCE_EXHAUSTED: Out of memory while trying to allocate 301989888 bytes.\n",
      "BufferAssignment OOM Debugging.\n",
      "BufferAssignment stats:\n",
      "             parameter allocation:  288.00MiB\n",
      "              constant allocation:         0B\n",
      "        maybe_live_out allocation:  288.00MiB\n",
      "     preallocated temp allocation:         0B\n",
      "                 total allocation:  576.00MiB\n",
      "              total fragmentation:         0B (0.00%)\n",
      "Peak buffers:\n",
      "\tBuffer 1:\n",
      "\t\tSize: 288.00MiB\n",
      "\t\tEntry Parameter Subshape: f64[256,256,24,24]\n",
      "\t\t==========================\n",
      "\n",
      "\tBuffer 2:\n",
      "\t\tSize: 288.00MiB\n",
      "\t\tOperator: op_name=\"jit(fn)/jit(main)/mul\" source_file=\"/tmp/ipykernel_3862999/1112281934.py\" source_line=51\n",
      "\t\tXLA Label: fusion\n",
      "\t\tShape: f64[256,256,24,24]\n",
      "\t\t==========================\n",
      "\n",
      "\tBuffer 3:\n",
      "\t\tSize: 8B\n",
      "\t\tEntry Parameter Subshape: f64[]\n",
      "\t\t==========================\n",
      "\n",
      "\n"
     ]
    },
    {
     "ename": "ValueError",
     "evalue": "RESOURCE_EXHAUSTED: Out of memory while trying to allocate 301989888 bytes.\nBufferAssignment OOM Debugging.\nBufferAssignment stats:\n             parameter allocation:  288.00MiB\n              constant allocation:         0B\n        maybe_live_out allocation:  288.00MiB\n     preallocated temp allocation:         0B\n                 total allocation:  576.00MiB\n              total fragmentation:         0B (0.00%)\nPeak buffers:\n\tBuffer 1:\n\t\tSize: 288.00MiB\n\t\tEntry Parameter Subshape: f64[256,256,24,24]\n\t\t==========================\n\n\tBuffer 2:\n\t\tSize: 288.00MiB\n\t\tOperator: op_name=\"jit(fn)/jit(main)/mul\" source_file=\"/tmp/ipykernel_3862999/1112281934.py\" source_line=51\n\t\tXLA Label: fusion\n\t\tShape: f64[256,256,24,24]\n\t\t==========================\n\n\tBuffer 3:\n\t\tSize: 8B\n\t\tEntry Parameter Subshape: f64[]\n\t\t==========================\n\n",
     "output_type": "error",
     "traceback": [
      "\u001b[0;31m---------------------------------------------------------------------------\u001b[0m",
      "\u001b[0;31mValueError\u001b[0m                                Traceback (most recent call last)",
      "Cell \u001b[0;32mIn[7], line 10\u001b[0m\n\u001b[1;32m      6\u001b[0m \u001b[38;5;28mprint\u001b[39m(xy[ni])\n\u001b[1;32m      8\u001b[0m kernel \u001b[38;5;241m=\u001b[39m GroupKernel()\n\u001b[0;32m---> 10\u001b[0m gram \u001b[38;5;241m=\u001b[39m GroupKernel()\u001b[38;5;241m.\u001b[39mgram(xy)\u001b[38;5;241m.\u001b[39mto_dense()\n\u001b[1;32m     12\u001b[0m \u001b[38;5;28mprint\u001b[39m(jnp\u001b[38;5;241m.\u001b[39mlinalg\u001b[38;5;241m.\u001b[39mcholesky(gram) \u001b[38;5;241m+\u001b[39m \u001b[38;5;241m1e-2\u001b[39m \u001b[38;5;241m*\u001b[39m jnp\u001b[38;5;241m.\u001b[39meye(gram\u001b[38;5;241m.\u001b[39mshape[\u001b[38;5;241m0\u001b[39m]))\n\u001b[1;32m     13\u001b[0m mat \u001b[38;5;241m=\u001b[39m gram[ni]\n",
      "File \u001b[0;32m~/anaconda3/lib/python3.11/site-packages/gpjax/kernels/base.py:64\u001b[0m, in \u001b[0;36mAbstractKernel.gram\u001b[0;34m(self, x)\u001b[0m\n\u001b[1;32m     63\u001b[0m \u001b[38;5;28;01mdef\u001b[39;00m \u001b[38;5;21mgram\u001b[39m(\u001b[38;5;28mself\u001b[39m, x: Num[Array, \u001b[38;5;124m\"\u001b[39m\u001b[38;5;124mN D\u001b[39m\u001b[38;5;124m\"\u001b[39m]):\n\u001b[0;32m---> 64\u001b[0m     \u001b[38;5;28;01mreturn\u001b[39;00m \u001b[38;5;28mself\u001b[39m\u001b[38;5;241m.\u001b[39mcompute_engine\u001b[38;5;241m.\u001b[39mgram(\u001b[38;5;28mself\u001b[39m, x)\n",
      "File \u001b[0;32m~/anaconda3/lib/python3.11/site-packages/gpjax/kernels/computations/base.py:56\u001b[0m, in \u001b[0;36mAbstractKernelComputation.gram\u001b[0;34m(self, kernel, x)\u001b[0m\n\u001b[1;32m     41\u001b[0m \u001b[38;5;28;01mdef\u001b[39;00m \u001b[38;5;21mgram\u001b[39m(\n\u001b[1;32m     42\u001b[0m     \u001b[38;5;28mself\u001b[39m,\n\u001b[1;32m     43\u001b[0m     kernel: Kernel,\n\u001b[1;32m     44\u001b[0m     x: Num[Array, \u001b[38;5;124m\"\u001b[39m\u001b[38;5;124mN D\u001b[39m\u001b[38;5;124m\"\u001b[39m],\n\u001b[1;32m     45\u001b[0m ) \u001b[38;5;241m-\u001b[39m\u001b[38;5;241m>\u001b[39m LinearOperator:\n\u001b[1;32m     46\u001b[0m \u001b[38;5;250m    \u001b[39m\u001b[38;5;124mr\u001b[39m\u001b[38;5;124;03m\"\"\"Compute Gram covariance operator of the kernel function.\u001b[39;00m\n\u001b[1;32m     47\u001b[0m \n\u001b[1;32m     48\u001b[0m \u001b[38;5;124;03m    Args:\u001b[39;00m\n\u001b[0;32m   (...)\u001b[0m\n\u001b[1;32m     54\u001b[0m \u001b[38;5;124;03m        LinearOperator: Gram covariance operator of the kernel function.\u001b[39;00m\n\u001b[1;32m     55\u001b[0m \u001b[38;5;124;03m    \"\"\"\u001b[39;00m\n\u001b[0;32m---> 56\u001b[0m     Kxx \u001b[38;5;241m=\u001b[39m \u001b[38;5;28mself\u001b[39m\u001b[38;5;241m.\u001b[39mcross_covariance(kernel, x, x)\n\u001b[1;32m     57\u001b[0m     \u001b[38;5;28;01mreturn\u001b[39;00m PSD(Dense(Kxx))\n",
      "File \u001b[0;32m~/anaconda3/lib/python3.11/site-packages/gpjax/kernels/computations/dense.py:48\u001b[0m, in \u001b[0;36mDenseKernelComputation.cross_covariance\u001b[0;34m(self, kernel, x, y)\u001b[0m\n\u001b[1;32m     31\u001b[0m \u001b[38;5;28;01mdef\u001b[39;00m \u001b[38;5;21mcross_covariance\u001b[39m(\n\u001b[1;32m     32\u001b[0m     \u001b[38;5;28mself\u001b[39m, kernel: Kernel, x: Float[Array, \u001b[38;5;124m\"\u001b[39m\u001b[38;5;124mN D\u001b[39m\u001b[38;5;124m\"\u001b[39m], y: Float[Array, \u001b[38;5;124m\"\u001b[39m\u001b[38;5;124mM D\u001b[39m\u001b[38;5;124m\"\u001b[39m]\n\u001b[1;32m     33\u001b[0m ) \u001b[38;5;241m-\u001b[39m\u001b[38;5;241m>\u001b[39m Float[Array, \u001b[38;5;124m\"\u001b[39m\u001b[38;5;124mN M\u001b[39m\u001b[38;5;124m\"\u001b[39m]:\n\u001b[1;32m     34\u001b[0m \u001b[38;5;250m    \u001b[39m\u001b[38;5;124mr\u001b[39m\u001b[38;5;124;03m\"\"\"Compute the cross-covariance matrix.\u001b[39;00m\n\u001b[1;32m     35\u001b[0m \n\u001b[1;32m     36\u001b[0m \u001b[38;5;124;03m    For a given kernel, compute the NxM covariance matrix on a pair of input\u001b[39;00m\n\u001b[0;32m   (...)\u001b[0m\n\u001b[1;32m     46\u001b[0m \u001b[38;5;124;03m        Float[Array, \"N M\"]: The computed cross-covariance.\u001b[39;00m\n\u001b[1;32m     47\u001b[0m \u001b[38;5;124;03m    \"\"\"\u001b[39;00m\n\u001b[0;32m---> 48\u001b[0m     cross_cov \u001b[38;5;241m=\u001b[39m vmap(\u001b[38;5;28;01mlambda\u001b[39;00m x: vmap(\u001b[38;5;28;01mlambda\u001b[39;00m y: kernel(x, y))(y))(x)\n\u001b[1;32m     49\u001b[0m     \u001b[38;5;28;01mreturn\u001b[39;00m cross_cov\n",
      "    \u001b[0;31m[... skipping hidden 3 frame]\u001b[0m\n",
      "File \u001b[0;32m~/anaconda3/lib/python3.11/site-packages/gpjax/kernels/computations/dense.py:48\u001b[0m, in \u001b[0;36mDenseKernelComputation.cross_covariance.<locals>.<lambda>\u001b[0;34m(x)\u001b[0m\n\u001b[1;32m     31\u001b[0m \u001b[38;5;28;01mdef\u001b[39;00m \u001b[38;5;21mcross_covariance\u001b[39m(\n\u001b[1;32m     32\u001b[0m     \u001b[38;5;28mself\u001b[39m, kernel: Kernel, x: Float[Array, \u001b[38;5;124m\"\u001b[39m\u001b[38;5;124mN D\u001b[39m\u001b[38;5;124m\"\u001b[39m], y: Float[Array, \u001b[38;5;124m\"\u001b[39m\u001b[38;5;124mM D\u001b[39m\u001b[38;5;124m\"\u001b[39m]\n\u001b[1;32m     33\u001b[0m ) \u001b[38;5;241m-\u001b[39m\u001b[38;5;241m>\u001b[39m Float[Array, \u001b[38;5;124m\"\u001b[39m\u001b[38;5;124mN M\u001b[39m\u001b[38;5;124m\"\u001b[39m]:\n\u001b[1;32m     34\u001b[0m \u001b[38;5;250m    \u001b[39m\u001b[38;5;124mr\u001b[39m\u001b[38;5;124;03m\"\"\"Compute the cross-covariance matrix.\u001b[39;00m\n\u001b[1;32m     35\u001b[0m \n\u001b[1;32m     36\u001b[0m \u001b[38;5;124;03m    For a given kernel, compute the NxM covariance matrix on a pair of input\u001b[39;00m\n\u001b[0;32m   (...)\u001b[0m\n\u001b[1;32m     46\u001b[0m \u001b[38;5;124;03m        Float[Array, \"N M\"]: The computed cross-covariance.\u001b[39;00m\n\u001b[1;32m     47\u001b[0m \u001b[38;5;124;03m    \"\"\"\u001b[39;00m\n\u001b[0;32m---> 48\u001b[0m     cross_cov \u001b[38;5;241m=\u001b[39m vmap(\u001b[38;5;28;01mlambda\u001b[39;00m x: vmap(\u001b[38;5;28;01mlambda\u001b[39;00m y: kernel(x, y))(y))(x)\n\u001b[1;32m     49\u001b[0m     \u001b[38;5;28;01mreturn\u001b[39;00m cross_cov\n",
      "    \u001b[0;31m[... skipping hidden 3 frame]\u001b[0m\n",
      "File \u001b[0;32m~/anaconda3/lib/python3.11/site-packages/gpjax/kernels/computations/dense.py:48\u001b[0m, in \u001b[0;36mDenseKernelComputation.cross_covariance.<locals>.<lambda>\u001b[0;34m(y)\u001b[0m\n\u001b[1;32m     31\u001b[0m \u001b[38;5;28;01mdef\u001b[39;00m \u001b[38;5;21mcross_covariance\u001b[39m(\n\u001b[1;32m     32\u001b[0m     \u001b[38;5;28mself\u001b[39m, kernel: Kernel, x: Float[Array, \u001b[38;5;124m\"\u001b[39m\u001b[38;5;124mN D\u001b[39m\u001b[38;5;124m\"\u001b[39m], y: Float[Array, \u001b[38;5;124m\"\u001b[39m\u001b[38;5;124mM D\u001b[39m\u001b[38;5;124m\"\u001b[39m]\n\u001b[1;32m     33\u001b[0m ) \u001b[38;5;241m-\u001b[39m\u001b[38;5;241m>\u001b[39m Float[Array, \u001b[38;5;124m\"\u001b[39m\u001b[38;5;124mN M\u001b[39m\u001b[38;5;124m\"\u001b[39m]:\n\u001b[1;32m     34\u001b[0m \u001b[38;5;250m    \u001b[39m\u001b[38;5;124mr\u001b[39m\u001b[38;5;124;03m\"\"\"Compute the cross-covariance matrix.\u001b[39;00m\n\u001b[1;32m     35\u001b[0m \n\u001b[1;32m     36\u001b[0m \u001b[38;5;124;03m    For a given kernel, compute the NxM covariance matrix on a pair of input\u001b[39;00m\n\u001b[0;32m   (...)\u001b[0m\n\u001b[1;32m     46\u001b[0m \u001b[38;5;124;03m        Float[Array, \"N M\"]: The computed cross-covariance.\u001b[39;00m\n\u001b[1;32m     47\u001b[0m \u001b[38;5;124;03m    \"\"\"\u001b[39;00m\n\u001b[0;32m---> 48\u001b[0m     cross_cov \u001b[38;5;241m=\u001b[39m vmap(\u001b[38;5;28;01mlambda\u001b[39;00m x: vmap(\u001b[38;5;28;01mlambda\u001b[39;00m y: kernel(x, y))(y))(x)\n\u001b[1;32m     49\u001b[0m     \u001b[38;5;28;01mreturn\u001b[39;00m cross_cov\n",
      "Cell \u001b[0;32mIn[6], line 59\u001b[0m, in \u001b[0;36mGroupKernel.__call__\u001b[0;34m(self, x, y)\u001b[0m\n\u001b[1;32m     57\u001b[0m \u001b[38;5;66;03m# x_frac = x[None, ...]\u001b[39;00m\n\u001b[1;32m     58\u001b[0m y_frac \u001b[38;5;241m=\u001b[39m orbit(y)\n\u001b[0;32m---> 59\u001b[0m frac_kern \u001b[38;5;241m=\u001b[39m jax\u001b[38;5;241m.\u001b[39mvmap(jax\u001b[38;5;241m.\u001b[39mvmap(\u001b[38;5;28mself\u001b[39m\u001b[38;5;241m.\u001b[39mperiodic_kern, in_axes\u001b[38;5;241m=\u001b[39m(\u001b[38;5;241m0\u001b[39m, \u001b[38;5;28;01mNone\u001b[39;00m)), in_axes\u001b[38;5;241m=\u001b[39m(\u001b[38;5;28;01mNone\u001b[39;00m, \u001b[38;5;241m0\u001b[39m))(x_frac, y_frac)\u001b[38;5;241m.\u001b[39mreshape(\u001b[38;5;241m-\u001b[39m\u001b[38;5;241m1\u001b[39m)\n\u001b[1;32m     60\u001b[0m kern_totals \u001b[38;5;241m=\u001b[39m frac_kern\n\u001b[1;32m     61\u001b[0m \u001b[38;5;28;01mreturn\u001b[39;00m \u001b[38;5;28mself\u001b[39m\u001b[38;5;241m.\u001b[39mgroup_weights \u001b[38;5;241m@\u001b[39m wp_pair_normed \u001b[38;5;241m@\u001b[39m kern_totals\n",
      "    \u001b[0;31m[... skipping hidden 6 frame]\u001b[0m\n",
      "Cell \u001b[0;32mIn[6], line 51\u001b[0m, in \u001b[0;36mGroupKernel.periodic_kern\u001b[0;34m(self, x, y)\u001b[0m\n\u001b[1;32m     50\u001b[0m \u001b[38;5;28;01mdef\u001b[39;00m \u001b[38;5;21mperiodic_kern\u001b[39m(\u001b[38;5;28mself\u001b[39m, x: jax\u001b[38;5;241m.\u001b[39mArray, y: jax\u001b[38;5;241m.\u001b[39mArray):\n\u001b[0;32m---> 51\u001b[0m     \u001b[38;5;28;01mreturn\u001b[39;00m \u001b[38;5;28mself\u001b[39m\u001b[38;5;241m.\u001b[39mx_kern(x, y) \u001b[38;5;241m*\u001b[39m \u001b[38;5;28mself\u001b[39m\u001b[38;5;241m.\u001b[39my_kern(x, y)\n",
      "File \u001b[0;32m~/anaconda3/lib/python3.11/site-packages/gpjax/kernels/stationary/periodic.py:63\u001b[0m, in \u001b[0;36mPeriodic.__call__\u001b[0;34m(self, x, y)\u001b[0m\n\u001b[1;32m     61\u001b[0m y \u001b[38;5;241m=\u001b[39m \u001b[38;5;28mself\u001b[39m\u001b[38;5;241m.\u001b[39mslice_input(y)\n\u001b[1;32m     62\u001b[0m sine_squared \u001b[38;5;241m=\u001b[39m (jnp\u001b[38;5;241m.\u001b[39msin(jnp\u001b[38;5;241m.\u001b[39mpi \u001b[38;5;241m*\u001b[39m (x \u001b[38;5;241m-\u001b[39m y) \u001b[38;5;241m/\u001b[39m \u001b[38;5;28mself\u001b[39m\u001b[38;5;241m.\u001b[39mperiod) \u001b[38;5;241m/\u001b[39m \u001b[38;5;28mself\u001b[39m\u001b[38;5;241m.\u001b[39mlengthscale) \u001b[38;5;241m*\u001b[39m\u001b[38;5;241m*\u001b[39m \u001b[38;5;241m2\u001b[39m\n\u001b[0;32m---> 63\u001b[0m K \u001b[38;5;241m=\u001b[39m \u001b[38;5;28mself\u001b[39m\u001b[38;5;241m.\u001b[39mvariance \u001b[38;5;241m*\u001b[39m jnp\u001b[38;5;241m.\u001b[39mexp(\u001b[38;5;241m-\u001b[39m\u001b[38;5;241m0.5\u001b[39m \u001b[38;5;241m*\u001b[39m jnp\u001b[38;5;241m.\u001b[39msum(sine_squared, axis\u001b[38;5;241m=\u001b[39m\u001b[38;5;241m0\u001b[39m))\n\u001b[1;32m     64\u001b[0m \u001b[38;5;28;01mreturn\u001b[39;00m K\u001b[38;5;241m.\u001b[39msqueeze()\n",
      "File \u001b[0;32m~/anaconda3/lib/python3.11/site-packages/jax/_src/numpy/array_methods.py:736\u001b[0m, in \u001b[0;36m_forward_operator_to_aval.<locals>.op\u001b[0;34m(self, *args)\u001b[0m\n\u001b[1;32m    735\u001b[0m \u001b[38;5;28;01mdef\u001b[39;00m \u001b[38;5;21mop\u001b[39m(\u001b[38;5;28mself\u001b[39m, \u001b[38;5;241m*\u001b[39margs):\n\u001b[0;32m--> 736\u001b[0m   \u001b[38;5;28;01mreturn\u001b[39;00m \u001b[38;5;28mgetattr\u001b[39m(\u001b[38;5;28mself\u001b[39m\u001b[38;5;241m.\u001b[39maval, \u001b[38;5;124mf\u001b[39m\u001b[38;5;124m\"\u001b[39m\u001b[38;5;124m_\u001b[39m\u001b[38;5;132;01m{\u001b[39;00mname\u001b[38;5;132;01m}\u001b[39;00m\u001b[38;5;124m\"\u001b[39m)(\u001b[38;5;28mself\u001b[39m, \u001b[38;5;241m*\u001b[39margs)\n",
      "File \u001b[0;32m~/anaconda3/lib/python3.11/site-packages/jax/_src/numpy/array_methods.py:264\u001b[0m, in \u001b[0;36m_defer_to_unrecognized_arg.<locals>.deferring_binary_op\u001b[0;34m(self, other)\u001b[0m\n\u001b[1;32m    262\u001b[0m args \u001b[38;5;241m=\u001b[39m (other, \u001b[38;5;28mself\u001b[39m) \u001b[38;5;28;01mif\u001b[39;00m swap \u001b[38;5;28;01melse\u001b[39;00m (\u001b[38;5;28mself\u001b[39m, other)\n\u001b[1;32m    263\u001b[0m \u001b[38;5;28;01mif\u001b[39;00m \u001b[38;5;28misinstance\u001b[39m(other, _accepted_binop_types):\n\u001b[0;32m--> 264\u001b[0m   \u001b[38;5;28;01mreturn\u001b[39;00m binary_op(\u001b[38;5;241m*\u001b[39margs)\n\u001b[1;32m    265\u001b[0m \u001b[38;5;66;03m# Note: don't use isinstance here, because we don't want to raise for\u001b[39;00m\n\u001b[1;32m    266\u001b[0m \u001b[38;5;66;03m# subclasses, e.g. NamedTuple objects that may override operators.\u001b[39;00m\n\u001b[1;32m    267\u001b[0m \u001b[38;5;28;01mif\u001b[39;00m \u001b[38;5;28mtype\u001b[39m(other) \u001b[38;5;129;01min\u001b[39;00m _rejected_binop_types:\n",
      "    \u001b[0;31m[... skipping hidden 11 frame]\u001b[0m\n",
      "    \u001b[0;31m[... skipping similar frames: AxisPrimitive.bind at line 2788 (2 times), Primitive.bind_with_trace at line 425 (2 times), _pjit_batcher at line 1708 (1 times), BatchTrace.process_primitive at line 433 (1 times)]\u001b[0m\n",
      "    \u001b[0;31m[... skipping hidden 5 frame]\u001b[0m\n",
      "File \u001b[0;32m~/anaconda3/lib/python3.11/site-packages/jax/_src/pjit.py:1488\u001b[0m, in \u001b[0;36m_pjit_call_impl\u001b[0;34m(jaxpr, in_shardings, out_shardings, resource_env, donated_invars, name, keep_unused, inline, *args)\u001b[0m\n\u001b[1;32m   1485\u001b[0m has_explicit_sharding \u001b[38;5;241m=\u001b[39m _pjit_explicit_sharding(\n\u001b[1;32m   1486\u001b[0m     in_shardings, out_shardings, \u001b[38;5;28;01mNone\u001b[39;00m, \u001b[38;5;28;01mNone\u001b[39;00m)\n\u001b[1;32m   1487\u001b[0m \u001b[38;5;28;01mif\u001b[39;00m xla_extension_version \u001b[38;5;241m>\u001b[39m\u001b[38;5;241m=\u001b[39m \u001b[38;5;241m226\u001b[39m:\n\u001b[0;32m-> 1488\u001b[0m   \u001b[38;5;28;01mreturn\u001b[39;00m xc\u001b[38;5;241m.\u001b[39m_xla\u001b[38;5;241m.\u001b[39mpjit(\n\u001b[1;32m   1489\u001b[0m       name, f, call_impl_cache_miss, [], [], donated_argnums,\n\u001b[1;32m   1490\u001b[0m       tree_util\u001b[38;5;241m.\u001b[39mdispatch_registry,\n\u001b[1;32m   1491\u001b[0m       pxla\u001b[38;5;241m.\u001b[39mshard_arg \u001b[38;5;28;01mif\u001b[39;00m xla_extension_version \u001b[38;5;241m>\u001b[39m\u001b[38;5;241m=\u001b[39m \u001b[38;5;241m229\u001b[39m \u001b[38;5;28;01melse\u001b[39;00m pxla\u001b[38;5;241m.\u001b[39mtemp_shard_arg,  \u001b[38;5;66;03m# type: ignore\u001b[39;00m\n\u001b[1;32m   1492\u001b[0m       _get_cpp_global_cache(has_explicit_sharding))(\u001b[38;5;241m*\u001b[39margs)\n\u001b[1;32m   1493\u001b[0m \u001b[38;5;28;01melse\u001b[39;00m:\n\u001b[1;32m   1494\u001b[0m   \u001b[38;5;28;01mreturn\u001b[39;00m xc\u001b[38;5;241m.\u001b[39m_xla\u001b[38;5;241m.\u001b[39mpjit(name, f, call_impl_cache_miss, [], [], donated_argnums,  \u001b[38;5;66;03m# type: ignore\u001b[39;00m\n\u001b[1;32m   1495\u001b[0m                       tree_util\u001b[38;5;241m.\u001b[39mdispatch_registry,\n\u001b[1;32m   1496\u001b[0m                       _get_cpp_global_cache(has_explicit_sharding))(\u001b[38;5;241m*\u001b[39margs)\n",
      "\u001b[0;31mValueError\u001b[0m: RESOURCE_EXHAUSTED: Out of memory while trying to allocate 301989888 bytes.\nBufferAssignment OOM Debugging.\nBufferAssignment stats:\n             parameter allocation:  288.00MiB\n              constant allocation:         0B\n        maybe_live_out allocation:  288.00MiB\n     preallocated temp allocation:         0B\n                 total allocation:  576.00MiB\n              total fragmentation:         0B (0.00%)\nPeak buffers:\n\tBuffer 1:\n\t\tSize: 288.00MiB\n\t\tEntry Parameter Subshape: f64[256,256,24,24]\n\t\t==========================\n\n\tBuffer 2:\n\t\tSize: 288.00MiB\n\t\tOperator: op_name=\"jit(fn)/jit(main)/mul\" source_file=\"/tmp/ipykernel_3862999/1112281934.py\" source_line=51\n\t\tXLA Label: fusion\n\t\tShape: f64[256,256,24,24]\n\t\t==========================\n\n\tBuffer 3:\n\t\tSize: 8B\n\t\tEntry Parameter Subshape: f64[]\n\t\t==========================\n\n"
     ]
    }
   ],
   "source": [
    "ngrid = 16\n",
    "step = (ngrid + 1) * 1j\n",
    "xy = jnp.mgrid[0:1:step, 0:1:step][:, :-1, :-1].reshape(2, -1).T\n",
    "\n",
    "ni = 50\n",
    "print(xy[ni])\n",
    "\n",
    "kernel = GroupKernel()\n",
    "\n",
    "gram = GroupKernel().gram(xy).to_dense()\n",
    "\n",
    "print(jnp.linalg.cholesky(gram) + 1e-2 * jnp.eye(gram.shape[0]))\n",
    "mat = gram[ni]\n",
    "plt.scatter(xy[:, 0], xy[:, 1], c=mat)\n",
    "plt.colorbar()"
   ]
  },
  {
   "cell_type": "code",
   "execution_count": 42,
   "metadata": {},
   "outputs": [
    {
     "data": {
      "text/plain": [
       "Wyckoff position 4b in space group 8 with site symmetry 1\n",
       "x, y, z\n",
       "x, -y, z\n",
       "x+1/2, y+1/2, z\n",
       "x+1/2, -y+1/2, z"
      ]
     },
     "execution_count": 42,
     "metadata": {},
     "output_type": "execute_result"
    }
   ],
   "source": [
    "Group('Cm').Wyckoff_positions[0]"
   ]
  },
  {
   "cell_type": "code",
   "execution_count": 43,
   "metadata": {},
   "outputs": [
    {
     "data": {
      "text/plain": [
       "Wyckoff position 3d in space group 143 with site symmetry 1\n",
       "x, y, z\n",
       "-y, x-y, z\n",
       "-x+y, -x, z"
      ]
     },
     "execution_count": 43,
     "metadata": {},
     "output_type": "execute_result"
    }
   ],
   "source": [
    "Group('P3').Wyckoff_positions[0]"
   ]
  },
  {
   "cell_type": "code",
   "execution_count": 44,
   "metadata": {},
   "outputs": [
    {
     "data": {
      "text/plain": [
       "['P1',\n",
       " 'Pm',\n",
       " 'Cm',\n",
       " 'Pmm2',\n",
       " 'Pma2',\n",
       " 'Pba2',\n",
       " 'Cmm2',\n",
       " 'P4',\n",
       " 'P4mm',\n",
       " 'P4bm',\n",
       " 'P3',\n",
       " 'P3m1',\n",
       " 'P31m',\n",
       " 'P6',\n",
       " 'P6mm']"
      ]
     },
     "execution_count": 44,
     "metadata": {},
     "output_type": "execute_result"
    }
   ],
   "source": [
    "groups"
   ]
  },
  {
   "cell_type": "code",
   "execution_count": 64,
   "metadata": {},
   "outputs": [
    {
     "data": {
      "image/png": "[encoded data removed]",
      "text/plain": [
       "<Figure size 1000x200 with 4 Axes>"
      ]
     },
     "metadata": {},
     "output_type": "display_data"
    },
    {
     "data": {
      "text/plain": [
       "(0.0, 1.0)"
      ]
     },
     "execution_count": 64,
     "metadata": {},
     "output_type": "execute_result"
    },
    {
     "data": {
      "image/png": "[encoded data removed]",
      "text/plain": [
       "<Figure size 300x300 with 1 Axes>"
      ]
     },
     "metadata": {},
     "output_type": "display_data"
    }
   ],
   "source": [
    "X = jnp.array(Group('Cm').Wyckoff_positions[0].apply_ops([11/16, 3/16, 0])[:, :ndim]) % 1\n",
    "X2 = jnp.array(Group('P3').Wyckoff_positions[0].apply_ops([11/16, 3/16, 0])[1:, :ndim]) % 1\n",
    "\n",
    "y = jnp.ones_like(X[:, [0]])\n",
    "y2 = jnp.ones_like(X2[:, [0]]) * 0\n",
    "\n",
    "D = gpx.Dataset(jnp.vstack([X, X2]), jnp.vstack([y, y2]))\n",
    "\n",
    "meanf = gpx.mean_functions.Zero()\n",
    "kernel = GroupKernel()\n",
    "kernel = kernel.replace(x_kern=kernel.x_kern.replace_trainable(lengthscale=False, variance=False, period=False))\n",
    "kernel = kernel.replace(y_kern=kernel.y_kern.replace_trainable(lengthscale=False, variance=False, period=False))\n",
    "prior = gpx.gps.Prior(mean_function=meanf, kernel=kernel)\n",
    "\n",
    "prior_dist = prior.predict(xy)\n",
    "\n",
    "samples = prior_dist.sample(seed=jax.random.key(123), sample_shape=(4,))\n",
    "fig, axs = plt.subplots(1, 4, figsize=(10, 2))\n",
    "for ax, sample in zip(axs.flatten(), samples):\n",
    "    ax.scatter(xy[:, 0], xy[:, 1], c=sample)\n",
    "\n",
    "plt.show()\n",
    "plt.gcf().set_size_inches(3, 3)\n",
    "plt.scatter(*(X.T % 1))\n",
    "plt.xlim(0, 1)\n",
    "plt.ylim(0, 1)"
   ]
  },
  {
   "cell_type": "code",
   "execution_count": 65,
   "metadata": {},
   "outputs": [
    {
     "data": {
      "application/vnd.jupyter.widget-view+json": {
       "model_id": "3fefed9777784a93ad60057b22ba2214",
       "version_major": 2,
       "version_minor": 0
      },
      "text/plain": [
       "  0%|          | 0/5000 [00:00<?, ?it/s]"
      ]
     },
     "metadata": {},
     "output_type": "display_data"
    },
    {
     "data": {
      "text/plain": [
       "ConjugatePosterior(prior=Prior(kernel=GroupKernel(compute_engine=DenseKernelComputation(), active_dims=None, name='AbstractKernel', group_weights=Array([3.74529409e-01, 4.64094390e-01, 5.01035078e-01, 2.27122729e-01,\n",
       "       9.37834528e-02, 2.32531693e-01, 2.48055358e-01, 2.32532315e-01,\n",
       "       2.48055980e-01, 2.36925569e-01, 1.23143519e-01, 1.06562570e-01,\n",
       "       1.00067961e-01, 6.15900601e-02, 7.25385361e-02, 1.11022302e-16],      dtype=float64), x_kern=Periodic(compute_engine=DenseKernelComputation(), active_dims=[0], name='Periodic', lengthscale=Array(0.74439666, dtype=float64), variance=Array(0.79813887, dtype=float64), period=Array(1.31326169, dtype=float64)), y_kern=Periodic(compute_engine=DenseKernelComputation(), active_dims=[1], name='Periodic', lengthscale=Array(0.74439666, dtype=float64), variance=Array(0.79813887, dtype=float64), period=Array(1.31326169, dtype=float64))), mean_function=Zero(constant=Array([0.], dtype=float32)), jitter=1e-06), likelihood=Gaussian(num_datapoints=6, integrator=AnalyticalGaussianIntegrator(), obs_stddev=Array(0.6981597, dtype=float32)), jitter=1e-06)"
      ]
     },
     "execution_count": 65,
     "metadata": {},
     "output_type": "execute_result"
    }
   ],
   "source": [
    "likelihood = gpx.likelihoods.Gaussian(num_datapoints=D.n, obs_stddev=1e-2).replace_trainable(obs_stddev=False)\n",
    "posterior = prior * likelihood\n",
    "\n",
    "negative_mll = gpx.objectives.ConjugateMLL(negative=True)\n",
    "negative_mll(posterior, train_data=D)\n",
    "\n",
    "opt_posterior, history = gpx.fit(\n",
    "    model=posterior,\n",
    "    objective=negative_mll,\n",
    "    train_data=D,\n",
    "    optim=ox.sgd(1e-3, nesterov=True),\n",
    "    key=jax.random.key(123),\n",
    "    num_iters=5000\n",
    ")\n",
    "\n",
    "opt_posterior.constrain()"
   ]
  },
  {
   "cell_type": "code",
   "execution_count": 66,
   "metadata": {},
   "outputs": [],
   "source": [
    "latent_dist = opt_posterior.predict(xy, train_data=D)\n",
    "predictive_dist = opt_posterior.likelihood(latent_dist)\n",
    "\n",
    "predictive_mean = predictive_dist.mean()\n",
    "predictive_std = predictive_dist.stddev()"
   ]
  },
  {
   "cell_type": "code",
   "execution_count": 67,
   "metadata": {},
   "outputs": [
    {
     "data": {
      "application/vnd.plotly.v1+json": {
       "config": {
        "plotlyServerURL": "https://plot.ly"
       },
       "data": [
        {
         "surfacecolor": [
          [
           0.326737083758809,
           0.2256778530658876,
           0.22400458247952756,
           0.21851436720808073,
           0.2239794564017026,
           0.22403928037803875,
           0.2241227392040016,
           0.22428872326686178,
           0.2911608124230926,
           0.22428872325418697,
           0.22412273721283932,
           0.2240392822899383,
           0.22397949035158785,
           0.21851437813810726,
           0.22400458260708672,
           0.2256778530658899
          ],
          [
           0.2553689316866728,
           0.21715059872341794,
           0.21348583650047004,
           0.21125221047816478,
           0.21112706860201652,
           0.211128134425597,
           0.21120459040488057,
           0.2139586283961199,
           0.2525616923140998,
           0.21419688267681045,
           0.21120456686581252,
           0.21114018441359025,
           0.21112705586678185,
           0.21099721357244755,
           0.21144540540272388,
           0.21635386093122716
          ],
          [
           0.2540174500188113,
           0.21351079082128424,
           0.21615213343318557,
           0.21143939506629703,
           0.21323851843980135,
           0.20751829607437813,
           0.21384037236069967,
           0.21120318671607516,
           0.2520262337278992,
           0.2134480136871249,
           0.21381485981639395,
           0.20887781618201426,
           0.21105854079967482,
           0.21034103317841785,
           0.2162164567865625,
           0.2114706285161804
          ],
          [
           0.2539604897344784,
           0.21140544394093463,
           0.21144099441657271,
           0.21609152981833332,
           0.20896437438520543,
           0.014202439783194422,
           0.21107580533502923,
           0.21115643296986855,
           0.2430881169161017,
           0.2111576634986602,
           0.20912233123316004,
           0.014202436822259159,
           0.20918464399018138,
           0.2161971427138444,
           0.21034726011136837,
           0.211153096223046
          ],
          [
           0.2556784408112766,
           0.21336869055966604,
           0.21553550192630225,
           0.21320871442563977,
           0.22373429210033005,
           0.21110165493236843,
           0.21323365727968255,
           0.2135755736418473,
           0.25566707161458013,
           0.21358713072363275,
           0.21550841782403254,
           0.21131847120750055,
           0.22376896589736425,
           0.21342992459120785,
           0.2133107630427527,
           0.21335722066444357
          ],
          [
           0.2458746951737064,
           0.2109494729885228,
           0.21094833791415799,
           0.20293478519322358,
           0.21102826506792577,
           0.21608962658303368,
           0.21119970753548112,
           0.2110926121077736,
           0.24952264689311063,
           0.21133399476214135,
           0.21572873146659527,
           0.21846263993849233,
           0.21125277885432342,
           0.20279469030037575,
           0.21094280031120075,
           0.21095147124621724
          ],
          [
           0.253837690040486,
           0.2112222595440977,
           0.2138986726966347,
           0.21317001081258535,
           0.21111202720246067,
           0.21119869007001393,
           0.21614885837153813,
           0.21122898754079128,
           0.25217320028755036,
           0.21144093753395168,
           0.2162582163090177,
           0.21572734390321333,
           0.21336630088747188,
           0.21118228946828763,
           0.21389951194751167,
           0.2112221782417659
          ],
          [
           0.2541421382769442,
           0.21395862615830197,
           0.21118539820735174,
           0.21132731312344433,
           0.21125918269255564,
           0.20863088070441332,
           0.2111554179805945,
           0.21620141143861776,
           0.25298446838806765,
           0.21629978721613527,
           0.21140469567121992,
           0.2103285322440156,
           0.2113280324606083,
           0.2113206159054213,
           0.2134302701913845,
           0.21419688278898094
          ],
          [
           0.29116081242309827,
           0.2224963217689185,
           0.22205315629632913,
           0.2203216377608855,
           0.22178198706015587,
           0.014205307757706096,
           0.2197178074171824,
           0.2229760624577856,
           0.30722367191333977,
           0.2229760890443903,
           0.2211016596623377,
           0.17158357382959383,
           0.22317901155085862,
           0.21953539039356693,
           0.22204449815492383,
           0.22249632165321967
          ],
          [
           0.25414214127749785,
           0.21419688249473226,
           0.2134299956461771,
           0.211329429318054,
           0.21130450648768534,
           0.20887135171397145,
           0.21132887786239024,
           0.2162997085140136,
           0.25298446847384304,
           0.21620141209476051,
           0.21118491957774907,
           0.21008775917552755,
           0.21133791429690454,
           0.21132041475937688,
           0.21117557685701846,
           0.21395857867170387
          ],
          [
           0.25399096909339797,
           0.2112260454881801,
           0.21380903645174415,
           0.20911949219909903,
           0.21332339995828226,
           0.21572734391386442,
           0.21625819947417615,
           0.21145068988559076,
           0.25218047569637764,
           0.21122902281118214,
           0.21614885922857086,
           0.21119862858659624,
           0.2110254845423583,
           0.21107442167925247,
           0.21384078006677004,
           0.21122631221422464
          ],
          [
           0.25289309465046117,
           0.2111361179870137,
           0.20887783355976877,
           0.014202310709721815,
           0.2091850403898246,
           0.21846459219027423,
           0.21572880016602053,
           0.2113403814327437,
           0.2501906752706109,
           0.2111012003659502,
           0.2112002267318638,
           0.21609160299308394,
           0.2089681602366066,
           0.014202430328971394,
           0.20752052648210523,
           0.21112332949060678
          ],
          [
           0.25582971512504254,
           0.213372000651409,
           0.21327826799982166,
           0.21131527661905636,
           0.2237597079246228,
           0.21343129018465065,
           0.21555215825863014,
           0.21347060390614533,
           0.2530904164797739,
           0.2135136679617477,
           0.21332099149974934,
           0.21320847945395008,
           0.2237342783671747,
           0.21109825357904216,
           0.21542432451552157,
           0.2133617348639688
          ],
          [
           0.25396046112749415,
           0.21116437898816956,
           0.211328920884393,
           0.21619858130544817,
           0.21125031886688692,
           0.20274791812604287,
           0.21118319373596772,
           0.20813627784467856,
           0.01420697371692464,
           0.20813176523999818,
           0.2131710480606944,
           0.2029147565414712,
           0.21102772631954242,
           0.2160895687071155,
           0.21144045949433246,
           0.2114053746370422
          ],
          [
           0.2540174500294638,
           0.21147068447389414,
           0.2162454819407971,
           0.21132792447037219,
           0.21111220213038653,
           0.21094107902662443,
           0.21389898732906765,
           0.213384376002725,
           0.24950024806076196,
           0.21109082921752134,
           0.21389839682382525,
           0.21094718478268404,
           0.21334947495373122,
           0.2114395091213817,
           0.2161521331735886,
           0.21351079079690272
          ],
          [
           0.25536893168667296,
           0.21635386093493045,
           0.21144547934486488,
           0.21101024690331002,
           0.21113771050132715,
           0.2111402831422593,
           0.21120462329324285,
           0.21419688145287819,
           0.25256164331731323,
           0.21395852202120233,
           0.21120464278576767,
           0.2111390744479085,
           0.21113856472007322,
           0.21125243380949368,
           0.21348583669233923,
           0.2171505987234175
          ]
         ],
         "type": "surface",
         "x": [
          0,
          0.0625,
          0.125,
          0.1875,
          0.25,
          0.3125,
          0.375,
          0.4375,
          0.5,
          0.5625,
          0.625,
          0.6875,
          0.75,
          0.8125,
          0.875,
          0.9375
         ],
         "y": [
          0,
          0.0625,
          0.125,
          0.1875,
          0.25,
          0.3125,
          0.375,
          0.4375,
          0.5,
          0.5625,
          0.625,
          0.6875,
          0.75,
          0.8125,
          0.875,
          0.9375
         ],
         "z": [
          [
           -4.945037721697554e-9,
           -0.000007448512526759324,
           -0.001681446248090258,
           -0.011259741588610072,
           -0.0014477366628620966,
           -0.0018653710014434365,
           -0.00027818557704000423,
           -1.0690990917449379e-7,
           5.012829293475531e-9,
           0.0000019907390971089336,
           -0.0002760855057060261,
           -0.0018653395679271527,
           -0.0014473681419065868,
           -0.011259721448091871,
           -0.0016814446323138476,
           -0.000007448505831095066
          ],
          [
           -7.931973963806389e-7,
           -0.00000121680567322402,
           -0.0002466600265878491,
           -0.0012686845584474265,
           0.005689547927506778,
           0.005866009638583524,
           0.00044537161602059387,
           0.00013132958261542665,
           9.83870820130344e-7,
           0.00002222497570590613,
           0.0004379243856002816,
           0.0007530108004499406,
           0.005333816006634459,
           0.004217058515146246,
           0.0001582341250566618,
           0.0000021585265690783403
          ],
          [
           -0.00017904076194881296,
           -0.00002486922857961696,
           0.00023332098135713108,
           0.002051034236576127,
           0.03218341673003228,
           0.1974593084644921,
           0.02696137013501819,
           0.0017023258007938407,
           -0.000029038955179768887,
           0.0003259570853563402,
           0.02656290503108228,
           0.1467889298858533,
           0.027586353256839863,
           0.05878375610576288,
           0.01125310782441026,
           0.00038194900292500017
          ],
          [
           -0.0011915253490859213,
           -0.00003772298650902108,
           0.001727580050466418,
           0.011320113911085753,
           0.14792463436683653,
           0.998873539456983,
           0.15147313269633272,
           0.00138349843195214,
           0.004769031328937135,
           0.0006187286488890399,
           0.146765061677421,
           0.9988316159523049,
           0.14897397302884033,
           0.0228649651500129,
           0.05868891289430801,
           0.005713663726022892
          ],
          [
           -0.001529961096734551,
           0.0017190814537413296,
           0.011391542540266909,
           0.05355546397026662,
           0.029368022184256132,
           0.14756613465150745,
           0.02745108510366136,
           0.005695129576433535,
           0.004444839447306448,
           0.0019114319111573803,
           0.02182251047979065,
           0.14854736209924752,
           0.0363974864567999,
           0.05454260445632535,
           0.013741969549975957,
           0.0052554479774686354
          ],
          [
           -0.012485353546399,
           0.00022326648594987253,
           0.06916408013694557,
           0.353999195083473,
           0.053436870937907825,
           0.01133342797823992,
           0.002057938969747059,
           0.004503242490711379,
           0.044590382845635775,
           0.00460975993369924,
           0.0017392766800744313,
           0.011729672333008277,
           0.054117422164411,
           0.35383467912052635,
           0.0520375277545596,
           -0.0012495686444941514
          ],
          [
           -0.0018628156025293386,
           -0.00010715521151169553,
           0.00955847673955777,
           0.053657030349018184,
           0.010010602444111363,
           0.0017133717896752419,
           0.00023283676712997835,
           0.00023458833648394816,
           0.004472776671164735,
           0.005354686946074641,
           0.0007553164406474811,
           0.0016630295088579138,
           0.008234170291254752,
           0.0520409674506906,
           0.009345033179034618,
           -0.00011280269027299382
          ],
          [
           -0.000007125605534772113,
           0.0001259349112991735,
           0.00175143846081248,
           0.0018192082004615548,
           0.004159794262860559,
           -0.0019514006739010574,
           -0.0006876443291807592,
           -0.0000020389990176437455,
           0.00001870243485572222,
           0.0005117752897096091,
           0.0011941310679142436,
           -0.002418860415490992,
           0.004862013779847856,
           0.005027510758386019,
           0.00044454366886950887,
           0.000007841158828620007
          ],
          [
           1.2297100352861205e-8,
           0.000005921883363471919,
           0.0011161518112028672,
           0.01227815503170247,
           -0.0008510334659014492,
           0.00010366506511243117,
           -0.0019662295107021606,
           -0.000009687137982525447,
           -6.650113682939928e-10,
           -0.00001133920010054831,
           -0.0028106007415925876,
           -0.013882840545646431,
           0.0019912544386517486,
           0.046777495140481455,
           0.004800750190931714,
           0.000020157230056763557
          ],
          [
           1.465948317247011e-7,
           0.000020691510023942993,
           0.00046689289585054425,
           0.001761031111055201,
           0.0011158290945668615,
           -0.0018322040520254632,
           0.003974320403891408,
           0.00047196139929691245,
           0.000004467086788756545,
           -0.0000026218949823093958,
           -0.0005642940930241432,
           -0.0027793670181685878,
           0.0019511852531270465,
           0.0059581218964846906,
           0.005512013743280577,
           0.0003860900028530197
          ],
          [
           -0.0006926883369566241,
           0.00034057997976225096,
           0.02617230025587578,
           0.14696368583175481,
           0.021883371947726354,
           0.0017109700443388985,
           0.0007153344045541642,
           0.0016830225132396244,
           0.0007881743342295195,
           -0.000024524571857064077,
           0.00023225165302159307,
           0.002026456676810462,
           0.02719281252258555,
           0.15148486021568489,
           0.02722045539224234,
           0.0003985635627541608
          ],
          [
           -0.004652460946044301,
           0.00008187510260536694,
           0.14696447346362573,
           0.9988179025767513,
           0.14873701346677426,
           0.01172931850654848,
           0.0016766221404346936,
           0.0011412259047451805,
           0.010078702904614295,
           0.0007988598737156136,
           0.0017265802309193532,
           0.011333967377184166,
           0.14756672320643743,
           0.99887521557709,
           0.19750531816841738,
           0.00545632575140667
          ],
          [
           -0.00036156538154047597,
           0.0018336241083337637,
           0.02375137840812059,
           0.14889322127692964,
           0.03591794982586985,
           0.05381075528767223,
           0.008161334020101938,
           0.003973192668624937,
           -0.0011824803315999618,
           0.0011418696321069894,
           0.00980561152507596,
           0.05355689790766387,
           0.029386723935551296,
           0.14792665273868968,
           0.03218509240682887,
           0.005855952036791055
          ],
          [
           -0.0011863306570999042,
           0.0018167284942263461,
           0.020992516721843584,
           0.0155721532061161,
           0.05396595614462697,
           0.35186249214223986,
           0.051738570067397384,
           -0.0017416992824290513,
           0.00007894605570458603,
           -0.0014845937663768827,
           0.05375069893345287,
           0.35480891608423937,
           0.05367649783268358,
           0.011320660324615699,
           0.0020573754233859493,
           0.00023376544093661744
          ],
          [
           -0.00017903759202964707,
           0.00011184501540433721,
           0.003960478455063644,
           0.020920414993441758,
           0.009805958437952511,
           0.051755826446458084,
           0.009255582148852538,
           -0.0005298913455240501,
           -0.0019696993471183433,
           0.004006542734474581,
           0.009796372381156469,
           0.06929733272740857,
           0.011409708576411114,
           0.0017209793569000456,
           0.00023331939198173232,
           -0.000022627223727028896
          ],
          [
           -7.931905919348055e-7,
           -8.316819923570243e-8,
           -0.00011221783147776773,
           0.0003138980848078768,
           0.0016094876177442175,
           0.00007665227725755689,
           0.00011845494408220377,
           0.000004367751133132737,
           -0.000009702212306434128,
           0.00034627818889751595,
           0.00014239408304298203,
           0.001808861713458035,
           0.001731848975700629,
           -0.0015390534334058564,
           -0.000248901799581321,
           -0.0000012168123526594226
          ]
         ]
        }
       ],
       "layout": {
        "template": {
         "data": {
          "box": [
           {
            "fillcolor": "rgba(0,0,0,0)",
            "marker": {
             "line": {
              "color": "#FFFFFF"
             }
            },
            "notchwidth": 0,
            "type": "box"
           }
          ],
          "scatter": [
           {
            "marker": {
             "line": {
              "color": "#FFFFFF"
             }
            },
            "type": "scatter"
           }
          ],
          "violin": [
           {
            "meanline": {
             "visible": true
            },
            "type": "violin"
           }
          ]
         },
         "layout": {
          "annotationdefaults": {
           "arrowcolor": "#2a3f5f",
           "arrowhead": 0,
           "arrowwidth": 1
          },
          "autotypenumbers": "strict",
          "coloraxis": {
           "colorbar": {
            "outlinewidth": 0,
            "ticks": ""
           }
          },
          "colorscale": {
           "diverging": [
            [
             0,
             "#210fe0"
            ],
            [
             0.07142857142857142,
             "#0048e3"
            ],
            [
             0.14285714285714285,
             "#006fe2"
            ],
            [
             0.21428571428571427,
             "#048ddf"
            ],
            [
             0.2857142857142857,
             "#41a6dc"
            ],
            [
             0.35714285714285715,
             "#78bcd9"
            ],
            [
             0.42857142857142855,
             "#accfda"
            ],
            [
             0.5,
             "#d6d8d7"
            ],
            [
             0.5714285714285714,
             "#d4c3b3"
            ],
            [
             0.6428571428571429,
             "#cda88d"
            ],
            [
             0.7142857142857143,
             "#c68b6b"
            ],
            [
             0.7857142857142857,
             "#be6c4e"
            ],
            [
             0.8571428571428571,
             "#b44a37"
            ],
            [
             0.9285714285714286,
             "#a72128"
            ],
            [
             1,
             "#990022"
            ]
           ],
           "sequential": [
            [
             0,
             "#ddbe00"
            ],
            [
             0.06666666666666667,
             "#e7aa00"
            ],
            [
             0.13333333333333333,
             "#ec9600"
            ],
            [
             0.2,
             "#ec8300"
            ],
            [
             0.26666666666666666,
             "#e87300"
            ],
            [
             0.3333333333333333,
             "#e06531"
            ],
            [
             0.4,
             "#d65948"
            ],
            [
             0.4666666666666667,
             "#c84f5a"
            ],
            [
             0.5333333333333333,
             "#ba4668"
            ],
            [
             0.6,
             "#ac3b77"
            ],
            [
             0.6666666666666666,
             "#993386"
            ],
            [
             0.7333333333333333,
             "#842e92"
            ],
            [
             0.8,
             "#6b299d"
            ],
            [
             0.8666666666666667,
             "#5225a2"
            ],
            [
             0.9333333333333333,
             "#3223a3"
            ],
            [
             1,
             "#00229c"
            ]
           ],
           "sequentialminus": [
            [
             0,
             "#ddbe00"
            ],
            [
             0.06666666666666667,
             "#e7aa00"
            ],
            [
             0.13333333333333333,
             "#ec9600"
            ],
            [
             0.2,
             "#ec8300"
            ],
            [
             0.26666666666666666,
             "#e87300"
            ],
            [
             0.3333333333333333,
             "#e06531"
            ],
            [
             0.4,
             "#d65948"
            ],
            [
             0.4666666666666667,
             "#c84f5a"
            ],
            [
             0.5333333333333333,
             "#ba4668"
            ],
            [
             0.6,
             "#ac3b77"
            ],
            [
             0.6666666666666666,
             "#993386"
            ],
            [
             0.7333333333333333,
             "#842e92"
            ],
            [
             0.8,
             "#6b299d"
            ],
            [
             0.8666666666666667,
             "#5225a2"
            ],
            [
             0.9333333333333333,
             "#3223a3"
            ],
            [
             1,
             "#00229c"
            ]
           ]
          },
          "colorway": [
           "#1846b3",
           "#355e00",
           "#bb8600",
           "#dd2800",
           "#c510d2",
           "#9470fe",
           "#007dc2",
           "#00aeb3",
           "#008a47",
           "#942e00",
           "#f3398e",
           "#9e0077"
          ],
          "font": {
           "color": "#2a3f5f"
          },
          "geo": {
           "bgcolor": "white",
           "lakecolor": "white",
           "landcolor": "#E5ECF6",
           "showlakes": true,
           "showland": true,
           "subunitcolor": "white"
          },
          "hoverlabel": {
           "align": "left",
           "bgcolor": "#FFFFFF",
           "bordercolor": "#D3DAE6",
           "font": {
            "color": "#343741"
           }
          },
          "hovermode": "closest",
          "legend": {
           "bgcolor": "#FFFFFF",
           "bordercolor": "#D3DAE6",
           "borderwidth": 2,
           "font": {
            "color": "#69707D"
           },
           "title": {
            "font": {
             "color": "#343741"
            }
           }
          },
          "mapbox": {
           "style": "light"
          },
          "margin": {
           "b": 20,
           "l": 20,
           "r": 20,
           "t": 30
          },
          "paper_bgcolor": "#FFFFFF",
          "plot_bgcolor": "#FFFFFF",
          "polar": {
           "angularaxis": {
            "gridcolor": "white",
            "linecolor": "white",
            "ticks": ""
           },
           "bgcolor": "#E5ECF6",
           "radialaxis": {
            "gridcolor": "white",
            "linecolor": "white",
            "ticks": ""
           }
          },
          "scene": {
           "xaxis": {
            "backgroundcolor": "#FFFFFF",
            "gridcolor": "#D3DAE6",
            "gridwidth": 2,
            "linecolor": "#D3DAE6",
            "mirror": false,
            "showbackground": true,
            "showgrid": true,
            "showline": true,
            "tickcolor": "#98A2B3",
            "tickfont": {
             "color": "#69707D"
            },
            "ticks": "",
            "title": {
             "font": {
              "color": "#343741"
             }
            },
            "zerolinecolor": "white"
           },
           "yaxis": {
            "backgroundcolor": "#FFFFFF",
            "gridcolor": "#D3DAE6",
            "gridwidth": 2,
            "linecolor": "#D3DAE6",
            "mirror": false,
            "showbackground": true,
            "showgrid": true,
            "showline": true,
            "tickcolor": "#98A2B3",
            "tickfont": {
             "color": "#69707D"
            },
            "ticks": "",
            "title": {
             "font": {
              "color": "#343741"
             }
            },
            "zerolinecolor": "white"
           },
           "zaxis": {
            "backgroundcolor": "#FFFFFF",
            "gridcolor": "#D3DAE6",
            "gridwidth": 2,
            "linecolor": "#D3DAE6",
            "mirror": false,
            "showbackground": true,
            "showgrid": true,
            "showline": true,
            "tickcolor": "#98A2B3",
            "tickfont": {
             "color": "#69707D"
            },
            "ticks": "",
            "title": {
             "font": {
              "color": "#343741"
             }
            },
            "zerolinecolor": "white"
           }
          },
          "shapedefaults": {
           "line": {
            "color": "#2a3f5f"
           }
          },
          "ternary": {
           "aaxis": {
            "gridcolor": "white",
            "linecolor": "white",
            "ticks": ""
           },
           "baxis": {
            "gridcolor": "white",
            "linecolor": "white",
            "ticks": ""
           },
           "bgcolor": "#E5ECF6",
           "caxis": {
            "gridcolor": "white",
            "linecolor": "white",
            "ticks": ""
           }
          },
          "title": {
           "x": 0.05
          },
          "xaxis": {
           "automargin": true,
           "gridcolor": "#D3DAE6",
           "linecolor": "#D3DAE6",
           "mirror": false,
           "showgrid": false,
           "showline": true,
           "tickcolor": "#98A2B3",
           "tickfont": {
            "color": "#69707D"
           },
           "ticks": "",
           "title": {
            "font": {
             "color": "#343741"
            },
            "standoff": 15
           },
           "zerolinecolor": "white",
           "zerolinewidth": 2
          },
          "yaxis": {
           "automargin": true,
           "gridcolor": "#D3DAE6",
           "linecolor": "#D3DAE6",
           "mirror": false,
           "showgrid": false,
           "showline": true,
           "tickcolor": "#98A2B3",
           "tickfont": {
            "color": "#69707D"
           },
           "ticks": "",
           "title": {
            "font": {
             "color": "#343741"
            },
            "standoff": 15
           },
           "zerolinecolor": "white",
           "zerolinewidth": 2
          }
         }
        }
       }
      }
     },
     "metadata": {},
     "output_type": "display_data"
    }
   ],
   "source": [
    "import plotly.graph_objects as go\n",
    "\n",
    "rp.plotly_setup(is_dark)\n",
    "\n",
    "grid_vals = np.linspace(0, 1, ngrid + 1)[:-1]\n",
    "fig = go.Figure(data=[go.Surface(\n",
    "    x=grid_vals,\n",
    "    y=grid_vals,\n",
    "    z=np.array(predictive_mean).reshape(ngrid, ngrid),\n",
    "    surfacecolor=np.array(predictive_std).reshape(ngrid, ngrid),\n",
    ")])\n",
    "\n",
    "fig"
   ]
  },
  {
   "cell_type": "code",
   "execution_count": null,
   "metadata": {},
   "outputs": [],
   "source": []
  },
  {
   "cell_type": "code",
   "execution_count": null,
   "metadata": {},
   "outputs": [],
   "source": []
  }
 ],
 "metadata": {
  "kernelspec": {
   "display_name": "avid",
   "language": "python",
   "name": "python3"
  },
  "language_info": {
   "codemirror_mode": {
    "name": "ipython",
    "version": 3
   },
   "file_extension": ".py",
   "mimetype": "text/x-python",
   "name": "python",
   "nbconvert_exporter": "python",
   "pygments_lexer": "ipython3",
   "version": "3.1.undefined"
  }
 },
 "nbformat": 4,
 "nbformat_minor": 2
}

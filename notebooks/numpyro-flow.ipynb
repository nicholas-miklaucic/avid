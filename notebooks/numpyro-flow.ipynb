{
 "cells": [
  {
   "cell_type": "code",
   "execution_count": 4,
   "metadata": {
    "metadata": {}
   },
   "outputs": [],
   "source": [
    "import matplotlib.pyplot as plt\n",
    "import pandas as pd\n",
    "import seaborn as sns\n",
    "import rho_plus as rp\n",
    "import einops as ein\n",
    "import jax\n",
    "import jax.numpy as jnp\n",
    "import numpy as np\n",
    "from eins import EinsOp\n",
    "from eins import ElementwiseOps as E, Reductions as R, Combinations as C, Transformations as T\n",
    "\n",
    "is_dark = True\n",
    "theme, cs = rp.mpl_setup(is_dark)"
   ]
  },
  {
   "cell_type": "code",
   "execution_count": 7,
   "metadata": {
    "metadata": {}
   },
   "outputs": [
    {
     "name": "stdout",
     "output_type": "stream",
     "text": [
      "/home/nicholas/programs/avid\n"
     ]
    }
   ],
   "source": [
    "%cd ~/programs/avid"
   ]
  },
  {
   "cell_type": "code",
   "execution_count": 8,
   "metadata": {
    "metadata": {}
   },
   "outputs": [
    {
     "data": {
      "text/html": [
       "<div>\n",
       "<style scoped>\n",
       "    .dataframe tbody tr th:only-of-type {\n",
       "        vertical-align: middle;\n",
       "    }\n",
       "\n",
       "    .dataframe tbody tr th {\n",
       "        vertical-align: top;\n",
       "    }\n",
       "\n",
       "    .dataframe thead th {\n",
       "        text-align: right;\n",
       "    }\n",
       "</style>\n",
       "<table border=\"1\" class=\"dataframe\">\n",
       "  <thead>\n",
       "    <tr style=\"text-align: right;\">\n",
       "      <th></th>\n",
       "      <th>structure</th>\n",
       "      <th>e_form</th>\n",
       "      <th>struct</th>\n",
       "    </tr>\n",
       "  </thead>\n",
       "  <tbody>\n",
       "    <tr>\n",
       "      <th>0</th>\n",
       "      <td>{'@module': 'pymatgen.core.structure', '@class...</td>\n",
       "      <td>2.16</td>\n",
       "      <td>[[0. 0. 0.] Rh, [1.97726555 1.97726555 1.97726...</td>\n",
       "    </tr>\n",
       "    <tr>\n",
       "      <th>1</th>\n",
       "      <td>{'@module': 'pymatgen.core.structure', '@class...</td>\n",
       "      <td>1.52</td>\n",
       "      <td>[[2.54041798 0.         0.        ] Hf, [1.020...</td>\n",
       "    </tr>\n",
       "    <tr>\n",
       "      <th>2</th>\n",
       "      <td>{'@module': 'pymatgen.core.structure', '@class...</td>\n",
       "      <td>1.48</td>\n",
       "      <td>[[0.60790913 0.         0.        ] Re, [2.186...</td>\n",
       "    </tr>\n",
       "    <tr>\n",
       "      <th>3</th>\n",
       "      <td>{'@module': 'pymatgen.core.structure', '@class...</td>\n",
       "      <td>1.24</td>\n",
       "      <td>[[2.83091357 0.         0.        ] W, [2.6573...</td>\n",
       "    </tr>\n",
       "    <tr>\n",
       "      <th>4</th>\n",
       "      <td>{'@module': 'pymatgen.core.structure', '@class...</td>\n",
       "      <td>0.62</td>\n",
       "      <td>[[0.00518937 0.         0.        ] Bi, [2.172...</td>\n",
       "    </tr>\n",
       "  </tbody>\n",
       "</table>\n",
       "</div>"
      ],
      "text/plain": [
       "                                           structure  e_form  \\\n",
       "0  {'@module': 'pymatgen.core.structure', '@class...    2.16   \n",
       "1  {'@module': 'pymatgen.core.structure', '@class...    1.52   \n",
       "2  {'@module': 'pymatgen.core.structure', '@class...    1.48   \n",
       "3  {'@module': 'pymatgen.core.structure', '@class...    1.24   \n",
       "4  {'@module': 'pymatgen.core.structure', '@class...    0.62   \n",
       "\n",
       "                                              struct  \n",
       "0  [[0. 0. 0.] Rh, [1.97726555 1.97726555 1.97726...  \n",
       "1  [[2.54041798 0.         0.        ] Hf, [1.020...  \n",
       "2  [[0.60790913 0.         0.        ] Re, [2.186...  \n",
       "3  [[2.83091357 0.         0.        ] W, [2.6573...  \n",
       "4  [[0.00518937 0.         0.        ] Bi, [2.172...  "
      ]
     },
     "execution_count": 8,
     "metadata": {},
     "output_type": "execute_result"
    }
   ],
   "source": [
    "from pymatgen.core import Structure\n",
    "# matbench perov dataset\n",
    "\n",
    "perovs = pd.read_json('data/castelli.json', orient='split')\n",
    "perovs['struct'] = [Structure.from_dict(s) for s in perovs['structure']]\n",
    "perovs.head()"
   ]
  },
  {
   "cell_type": "code",
   "execution_count": null,
   "metadata": {},
   "outputs": [],
   "source": []
  }
 ],
 "metadata": {
  "kernelspec": {
   "display_name": "avid",
   "language": "python",
   "name": "python3"
  },
  "language_info": {
   "codemirror_mode": {
    "name": "ipython",
    "version": 3
   },
   "file_extension": ".py",
   "mimetype": "text/x-python",
   "name": "python",
   "nbconvert_exporter": "python",
   "pygments_lexer": "ipython3",
   "version": "3.12.0"
  }
 },
 "nbformat": 4,
 "nbformat_minor": 2
}

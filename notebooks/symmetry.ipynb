{
 "cells": [
  {
   "cell_type": "code",
   "execution_count": 1,
   "metadata": {
    "metadata": {}
   },
   "outputs": [
    {
     "name": "stderr",
     "output_type": "stream",
     "text": [
      "/home/nmiklaucic/miniconda3/envs/avid/lib/python3.12/site-packages/tqdm/auto.py:21: TqdmWarning: IProgress not found. Please update jupyter and ipywidgets. See https://ipywidgets.readthedocs.io/en/stable/user_install.html\n",
      "  from .autonotebook import tqdm as notebook_tqdm\n"
     ]
    }
   ],
   "source": [
    "import os\n",
    "\n",
    "os.environ['CUDA_VISIBLE_DEVICES'] = '1'\n",
    "import jax\n",
    "\n",
    "\n",
    "from emlp.reps import V,sparsify_basis,T\n",
    "import emlp.groups as groups\n",
    "import emlp\n",
    "import jax.numpy as jnp\n",
    "import numpy as np"
   ]
  },
  {
   "cell_type": "code",
   "execution_count": 4,
   "metadata": {
    "metadata": {}
   },
   "outputs": [
    {
     "name": "stdout",
     "output_type": "stream",
     "text": [
      "/home/nmiklaucic/avid\n"
     ]
    }
   ],
   "source": [
    "%cd ~/avid"
   ]
  },
  {
   "cell_type": "code",
   "execution_count": 5,
   "metadata": {
    "metadata": {}
   },
   "outputs": [],
   "source": [
    "import matplotlib.pyplot as plt\n",
    "import seaborn as sns\n",
    "import rho_plus as rp\n",
    "from emlp.reps.linear_operators import LazyPerm\n",
    "from einops import rearrange\n",
    "\n",
    "theme, cs = rp.mpl_setup(True)\n",
    "\n",
    "\n",
    "plt.rcParams['image.cmap'] = 'viridis'\n",
    "plt.rcParams['figure.dpi'] = 100\n",
    "\n",
    "\n",
    "class SquarePerm(emlp.Group):\n",
    "    def __init__(self, n: int, shift_subgroup: int = 1):\n",
    "        assert n % shift_subgroup == 0\n",
    "\n",
    "        base = jnp.arange(n * n).reshape(n, n)\n",
    "\n",
    "        rots = []\n",
    "        taus = []\n",
    "        for ax in range(2):\n",
    "            rots.append(jnp.flip(base, axis=ax))\n",
    "            taus.append(jnp.roll(base, shift_subgroup, axis=ax))\n",
    "\n",
    "        rots.append(jnp.flip(jnp.transpose(base), axis=0))\n",
    "        rots.append(jnp.transpose(base))\n",
    "        rots.append(jnp.flip(base, (0, 1)))\n",
    "\n",
    "        perms = rearrange(jnp.array([rots + taus]), '1 b nx ny -> b (nx ny)')\n",
    "        self.discrete_generators = [LazyPerm(perm) for perm in perms]\n",
    "        super().__init__(n)\n",
    "\n",
    "class CubicPerm(emlp.Group):\n",
    "    def __init__(self, n: int, shift_subgroup: int = 1):\n",
    "        assert n % shift_subgroup == 0\n",
    "\n",
    "        base = jnp.arange(n * n * n).reshape(n, n, n)\n",
    "\n",
    "        rots = []\n",
    "        flips = []\n",
    "        taus = []\n",
    "        for ax in range(3):\n",
    "            if ax > 0:\n",
    "                axes = list(range(3))\n",
    "                axes[0], axes[ax] = axes[ax], axes[0]\n",
    "                rots.append(jnp.permute_dims(base, axes=axes))\n",
    "            flips.append(jnp.flip(base, ax))\n",
    "            taus.append(jnp.roll(base, shift_subgroup, axis=ax))\n",
    "\n",
    "        perms = rearrange(jnp.array([rots + flips + taus]), '1 b nx ny nz -> b (nx ny nz)')\n",
    "        self.discrete_generators = [LazyPerm(perm) for perm in perms]\n",
    "        super().__init__(n)\n",
    "\n",
    "Sq = SquarePerm\n",
    "Cu = CubicPerm"
   ]
  },
  {
   "cell_type": "code",
   "execution_count": 6,
   "metadata": {
    "metadata": {}
   },
   "outputs": [
    {
     "name": "stderr",
     "output_type": "stream",
     "text": [
      "Krylov Solving for Equivariant Subspace r<=10: 100%|██████████| 100/100 [00:00<00:00, 114.57it/s]               \n",
      "Krylov Solving for Equivariant Subspace r<=20: 100%|██████████| 100/100 [00:00<00:00, 115.79it/s] \n"
     ]
    }
   ],
   "source": [
    "B = (T(1) >> T(1))(Cu(5)).equivariant_basis()"
   ]
  },
  {
   "cell_type": "markdown",
   "metadata": {},
   "source": [
    "[Duplicated Tetrahedral numbers](https://oeis.org/A058187)"
   ]
  },
  {
   "cell_type": "code",
   "execution_count": 7,
   "metadata": {
    "metadata": {}
   },
   "outputs": [
    {
     "data": {
      "text/plain": [
       "array([[[9., 8., 5., 8., 9.],\n",
       "        [8., 7., 4., 7., 8.],\n",
       "        [5., 4., 2., 4., 5.],\n",
       "        [8., 7., 4., 7., 8.],\n",
       "        [9., 8., 5., 8., 9.]],\n",
       "\n",
       "       [[8., 7., 4., 7., 8.],\n",
       "        [7., 6., 3., 6., 7.],\n",
       "        [4., 3., 1., 3., 4.],\n",
       "        [7., 6., 3., 6., 7.],\n",
       "        [8., 7., 4., 7., 8.]],\n",
       "\n",
       "       [[5., 4., 2., 4., 5.],\n",
       "        [4., 3., 1., 3., 4.],\n",
       "        [2., 1., 0., 1., 2.],\n",
       "        [4., 3., 1., 3., 4.],\n",
       "        [5., 4., 2., 4., 5.]],\n",
       "\n",
       "       [[8., 7., 4., 7., 8.],\n",
       "        [7., 6., 3., 6., 7.],\n",
       "        [4., 3., 1., 3., 4.],\n",
       "        [7., 6., 3., 6., 7.],\n",
       "        [8., 7., 4., 7., 8.]],\n",
       "\n",
       "       [[9., 8., 5., 8., 9.],\n",
       "        [8., 7., 4., 7., 8.],\n",
       "        [5., 4., 2., 4., 5.],\n",
       "        [8., 7., 4., 7., 8.],\n",
       "        [9., 8., 5., 8., 9.]]])"
      ]
     },
     "execution_count": 7,
     "metadata": {},
     "output_type": "execute_result"
    }
   ],
   "source": [
    "def conv_basis(conv_size: int) -> np.ndarray:\n",
    "    conv_basis = np.zeros((conv_size, conv_size, conv_size))\n",
    "    n = ((conv_size + 2) // 2)\n",
    "    i = 0\n",
    "    for xyz in np.mgrid[0:n, 0:n, 0:n].reshape(3, -1).T:\n",
    "        if not np.allclose(np.argsort(xyz), np.arange(3)):\n",
    "            continue\n",
    "        for s_xyz in np.mgrid[0:2, 0:2, 0:2].reshape(3, -1).T:\n",
    "            # flip\n",
    "            flip_xyz = xyz - 2 * xyz * s_xyz\n",
    "            for perm in [[0, 1, 2], [0, 2, 1], [1, 0, 2], [1, 2, 0], [2, 0, 1], [2, 1, 0]]:\n",
    "                # move -n - n into 0 - conv_size\n",
    "                xi, yi, zi = flip_xyz[perm] + (n - 1)\n",
    "                conv_basis[xi, yi, zi] = i\n",
    "        i += 1\n",
    "    return conv_basis\n",
    "\n",
    "conv_basis(5)"
   ]
  },
  {
   "cell_type": "code",
   "execution_count": 8,
   "metadata": {
    "metadata": {}
   },
   "outputs": [
    {
     "data": {
      "text/plain": [
       "(3, 2, 2, 2)"
      ]
     },
     "execution_count": 8,
     "metadata": {},
     "output_type": "execute_result"
    }
   ],
   "source": [
    "np.mgrid[0:2, 0:2, 0:2].shape"
   ]
  },
  {
   "cell_type": "code",
   "execution_count": 9,
   "metadata": {
    "metadata": {}
   },
   "outputs": [
    {
     "data": {
      "text/plain": [
       "array([[[3., 2., 3.],\n",
       "        [2., 1., 2.],\n",
       "        [3., 2., 3.]],\n",
       "\n",
       "       [[2., 1., 2.],\n",
       "        [1., 0., 1.],\n",
       "        [2., 1., 2.]],\n",
       "\n",
       "       [[3., 2., 3.],\n",
       "        [2., 1., 2.],\n",
       "        [3., 2., 3.]]])"
      ]
     },
     "execution_count": 9,
     "metadata": {},
     "output_type": "execute_result"
    }
   ],
   "source": [
    "conv_basis(3)"
   ]
  },
  {
   "cell_type": "code",
   "execution_count": 10,
   "metadata": {},
   "outputs": [
    {
     "data": {
      "text/plain": [
       "[]"
      ]
     },
     "execution_count": 10,
     "metadata": {},
     "output_type": "execute_result"
    },
    {
     "data": {
      "image/png": "[encoded data removed]",
      "text/plain": [
       "<Figure size 600x400 with 6 Axes>"
      ]
     },
     "metadata": {},
     "output_type": "display_data"
    }
   ],
   "source": [
    "n = 8\n",
    "nr = 2\n",
    "nc = 3\n",
    "fig, axs = plt.subplots(nr, nc, figsize=(nc * 2, nr * 2), sharex=True, sharey=True)\n",
    "for dg, ax in zip([LazyPerm(np.arange(n ** 2))]  + Sq(n).discrete_generators, axs.flatten()):\n",
    "    pos = dg.matvec(jnp.arange(n ** 2)).reshape(n, n)\n",
    "    xx, yy = jnp.mgrid[0:n, 0:n]\n",
    "    for x, y in zip(xx.reshape(-1), yy.reshape(-1)):\n",
    "        t = pos[n - 1 - y, x]\n",
    "        ax.text(x, y, t, color=cs[0] if t == 4 else '#' + theme['text.color'], fontdict={'weight': 'bold'})\n",
    "\n",
    "ax.set_xlim(-.1, (n - 1) + .1)\n",
    "ax.set_ylim(-.1, (n - 1) + .1)\n",
    "ax.set_xticks([])\n",
    "ax.set_yticks([])"
   ]
  },
  {
   "cell_type": "code",
   "execution_count": null,
   "metadata": {},
   "outputs": [],
   "source": [
    "# https://oeis.org/A000217\n",
    "# Square T(2)\n",
    "#   n   4   5   6   7   8   9\n",
    "#   #   6   6   10  10  15  15\n",
    "\n",
    "# https://oeis.org/A000292\n",
    "# Cube T(2)\n",
    "#   n   4   5   6   7   8   9\n",
    "#   #   10  10  20  20  35  35\n",
    "\n",
    "# Square T(3)\n",
    "#   n   2   3   4   5   6\n",
    "#   #   10  15  55  91  210\n",
    "# T(#)  4   5   10  13  20\n",
    "# = T(S(n)), where S(n) = https://oeis.org/A236283\n",
    "\n",
    "# Cube T(3)\n",
    "#   n   2   3\n",
    "#   #   20  35\n",
    "# Te(#) 4   5\n",
    "# = Te(S(n)), where S(n) = https://oeis.org/A236283"
   ]
  },
  {
   "cell_type": "markdown",
   "metadata": {},
   "source": [
    "For choosing $k$ points in an $n \\times n \\times n$ cube, the first point can be fixed as the origin.\n",
    "\n",
    "A236283 gives the number of triples from 1 to n under reflection and translation. This defines our fundamental region.\n",
    "\n",
    "The remaining $k - 1$ points are chosen from the $p$ available positions up to that symmetry. This can be done, up to order, by the tetrahedral number of that point."
   ]
  },
  {
   "cell_type": "code",
   "execution_count": 11,
   "metadata": {},
   "outputs": [
    {
     "data": {
      "text/html": [
       "<div>\n",
       "<style scoped>\n",
       "    .dataframe tbody tr th:only-of-type {\n",
       "        vertical-align: middle;\n",
       "    }\n",
       "\n",
       "    .dataframe tbody tr th {\n",
       "        vertical-align: top;\n",
       "    }\n",
       "\n",
       "    .dataframe thead th {\n",
       "        text-align: right;\n",
       "    }\n",
       "</style>\n",
       "<table border=\"1\" class=\"dataframe\">\n",
       "  <thead>\n",
       "    <tr style=\"text-align: right;\">\n",
       "      <th></th>\n",
       "      <th>9</th>\n",
       "      <th>10</th>\n",
       "      <th>11</th>\n",
       "      <th>12</th>\n",
       "      <th>13</th>\n",
       "      <th>14</th>\n",
       "      <th>15</th>\n",
       "      <th>16</th>\n",
       "      <th>17</th>\n",
       "      <th>18</th>\n",
       "      <th>...</th>\n",
       "      <th>26</th>\n",
       "      <th>27</th>\n",
       "      <th>28</th>\n",
       "      <th>29</th>\n",
       "      <th>30</th>\n",
       "      <th>31</th>\n",
       "      <th>32</th>\n",
       "      <th>33</th>\n",
       "      <th>34</th>\n",
       "      <th>35</th>\n",
       "    </tr>\n",
       "  </thead>\n",
       "  <tbody>\n",
       "    <tr>\n",
       "      <th>n</th>\n",
       "      <td>1</td>\n",
       "      <td>2</td>\n",
       "      <td>3</td>\n",
       "      <td>4</td>\n",
       "      <td>5</td>\n",
       "      <td>6</td>\n",
       "      <td>7</td>\n",
       "      <td>8</td>\n",
       "      <td>9</td>\n",
       "      <td>1</td>\n",
       "      <td>...</td>\n",
       "      <td>9</td>\n",
       "      <td>1</td>\n",
       "      <td>2</td>\n",
       "      <td>3</td>\n",
       "      <td>4</td>\n",
       "      <td>5</td>\n",
       "      <td>6</td>\n",
       "      <td>7</td>\n",
       "      <td>8</td>\n",
       "      <td>9</td>\n",
       "    </tr>\n",
       "    <tr>\n",
       "      <th>k</th>\n",
       "      <td>2</td>\n",
       "      <td>2</td>\n",
       "      <td>2</td>\n",
       "      <td>2</td>\n",
       "      <td>2</td>\n",
       "      <td>2</td>\n",
       "      <td>2</td>\n",
       "      <td>2</td>\n",
       "      <td>2</td>\n",
       "      <td>3</td>\n",
       "      <td>...</td>\n",
       "      <td>3</td>\n",
       "      <td>4</td>\n",
       "      <td>4</td>\n",
       "      <td>4</td>\n",
       "      <td>4</td>\n",
       "      <td>4</td>\n",
       "      <td>4</td>\n",
       "      <td>4</td>\n",
       "      <td>4</td>\n",
       "      <td>4</td>\n",
       "    </tr>\n",
       "    <tr>\n",
       "      <th>d</th>\n",
       "      <td>2</td>\n",
       "      <td>2</td>\n",
       "      <td>2</td>\n",
       "      <td>2</td>\n",
       "      <td>2</td>\n",
       "      <td>2</td>\n",
       "      <td>2</td>\n",
       "      <td>2</td>\n",
       "      <td>2</td>\n",
       "      <td>2</td>\n",
       "      <td>...</td>\n",
       "      <td>2</td>\n",
       "      <td>2</td>\n",
       "      <td>2</td>\n",
       "      <td>2</td>\n",
       "      <td>2</td>\n",
       "      <td>2</td>\n",
       "      <td>2</td>\n",
       "      <td>2</td>\n",
       "      <td>2</td>\n",
       "      <td>2</td>\n",
       "    </tr>\n",
       "    <tr>\n",
       "      <th>num</th>\n",
       "      <td>1</td>\n",
       "      <td>3</td>\n",
       "      <td>3</td>\n",
       "      <td>6</td>\n",
       "      <td>6</td>\n",
       "      <td>10</td>\n",
       "      <td>10</td>\n",
       "      <td>15</td>\n",
       "      <td>15</td>\n",
       "      <td>1</td>\n",
       "      <td>...</td>\n",
       "      <td>861</td>\n",
       "      <td>1</td>\n",
       "      <td>36</td>\n",
       "      <td>105</td>\n",
       "      <td>666</td>\n",
       "      <td>2016</td>\n",
       "      <td>6328</td>\n",
       "      <td>14878</td>\n",
       "      <td>33930</td>\n",
       "      <td>66795</td>\n",
       "    </tr>\n",
       "  </tbody>\n",
       "</table>\n",
       "<p>4 rows × 27 columns</p>\n",
       "</div>"
      ],
      "text/plain": [
       "    9  10 11 12 13  14  15  16  17 18  ...   26 27  28   29   30    31    32  \\\n",
       "n    1  2  3  4  5   6   7   8   9  1  ...    9  1   2    3    4     5     6   \n",
       "k    2  2  2  2  2   2   2   2   2  3  ...    3  4   4    4    4     4     4   \n",
       "d    2  2  2  2  2   2   2   2   2  2  ...    2  2   2    2    2     2     2   \n",
       "num  1  3  3  6  6  10  10  15  15  1  ...  861  1  36  105  666  2016  6328   \n",
       "\n",
       "        33     34     35  \n",
       "n        7      8      9  \n",
       "k        4      4      4  \n",
       "d        2      2      2  \n",
       "num  14878  33930  66795  \n",
       "\n",
       "[4 rows x 27 columns]"
      ]
     },
     "metadata": {},
     "output_type": "display_data"
    },
    {
     "data": {
      "text/html": [
       "<div>\n",
       "<style scoped>\n",
       "    .dataframe tbody tr th:only-of-type {\n",
       "        vertical-align: middle;\n",
       "    }\n",
       "\n",
       "    .dataframe tbody tr th {\n",
       "        vertical-align: top;\n",
       "    }\n",
       "\n",
       "    .dataframe thead th {\n",
       "        text-align: right;\n",
       "    }\n",
       "</style>\n",
       "<table border=\"1\" class=\"dataframe\">\n",
       "  <thead>\n",
       "    <tr style=\"text-align: right;\">\n",
       "      <th></th>\n",
       "      <th>45</th>\n",
       "      <th>46</th>\n",
       "      <th>47</th>\n",
       "      <th>48</th>\n",
       "      <th>49</th>\n",
       "      <th>50</th>\n",
       "      <th>51</th>\n",
       "      <th>52</th>\n",
       "      <th>53</th>\n",
       "      <th>54</th>\n",
       "      <th>...</th>\n",
       "      <th>62</th>\n",
       "      <th>63</th>\n",
       "      <th>64</th>\n",
       "      <th>65</th>\n",
       "      <th>66</th>\n",
       "      <th>67</th>\n",
       "      <th>68</th>\n",
       "      <th>69</th>\n",
       "      <th>70</th>\n",
       "      <th>71</th>\n",
       "    </tr>\n",
       "  </thead>\n",
       "  <tbody>\n",
       "    <tr>\n",
       "      <th>n</th>\n",
       "      <td>1</td>\n",
       "      <td>2</td>\n",
       "      <td>3</td>\n",
       "      <td>4</td>\n",
       "      <td>5</td>\n",
       "      <td>6</td>\n",
       "      <td>7</td>\n",
       "      <td>8</td>\n",
       "      <td>9</td>\n",
       "      <td>1</td>\n",
       "      <td>...</td>\n",
       "      <td>9</td>\n",
       "      <td>1</td>\n",
       "      <td>2</td>\n",
       "      <td>3</td>\n",
       "      <td>4</td>\n",
       "      <td>5</td>\n",
       "      <td>6</td>\n",
       "      <td>7</td>\n",
       "      <td>8</td>\n",
       "      <td>9</td>\n",
       "    </tr>\n",
       "    <tr>\n",
       "      <th>k</th>\n",
       "      <td>2</td>\n",
       "      <td>2</td>\n",
       "      <td>2</td>\n",
       "      <td>2</td>\n",
       "      <td>2</td>\n",
       "      <td>2</td>\n",
       "      <td>2</td>\n",
       "      <td>2</td>\n",
       "      <td>2</td>\n",
       "      <td>3</td>\n",
       "      <td>...</td>\n",
       "      <td>3</td>\n",
       "      <td>4</td>\n",
       "      <td>4</td>\n",
       "      <td>4</td>\n",
       "      <td>4</td>\n",
       "      <td>4</td>\n",
       "      <td>4</td>\n",
       "      <td>4</td>\n",
       "      <td>4</td>\n",
       "      <td>4</td>\n",
       "    </tr>\n",
       "    <tr>\n",
       "      <th>d</th>\n",
       "      <td>3</td>\n",
       "      <td>3</td>\n",
       "      <td>3</td>\n",
       "      <td>3</td>\n",
       "      <td>3</td>\n",
       "      <td>3</td>\n",
       "      <td>3</td>\n",
       "      <td>3</td>\n",
       "      <td>3</td>\n",
       "      <td>3</td>\n",
       "      <td>...</td>\n",
       "      <td>3</td>\n",
       "      <td>3</td>\n",
       "      <td>3</td>\n",
       "      <td>3</td>\n",
       "      <td>3</td>\n",
       "      <td>3</td>\n",
       "      <td>3</td>\n",
       "      <td>3</td>\n",
       "      <td>3</td>\n",
       "      <td>3</td>\n",
       "    </tr>\n",
       "    <tr>\n",
       "      <th>num</th>\n",
       "      <td>1</td>\n",
       "      <td>4</td>\n",
       "      <td>4</td>\n",
       "      <td>10</td>\n",
       "      <td>10</td>\n",
       "      <td>20</td>\n",
       "      <td>20</td>\n",
       "      <td>35</td>\n",
       "      <td>35</td>\n",
       "      <td>1</td>\n",
       "      <td>...</td>\n",
       "      <td>12341</td>\n",
       "      <td>1</td>\n",
       "      <td>120</td>\n",
       "      <td>560</td>\n",
       "      <td>8436</td>\n",
       "      <td>43680</td>\n",
       "      <td>240464</td>\n",
       "      <td>862924</td>\n",
       "      <td>2963220</td>\n",
       "      <td>8171255</td>\n",
       "    </tr>\n",
       "  </tbody>\n",
       "</table>\n",
       "<p>4 rows × 27 columns</p>\n",
       "</div>"
      ],
      "text/plain": [
       "    45 46 47  48  49  50  51  52  53 54  ...     62 63   64   65    66     67  \\\n",
       "n    1  2  3   4   5   6   7   8   9  1  ...      9  1    2    3     4      5   \n",
       "k    2  2  2   2   2   2   2   2   2  3  ...      3  4    4    4     4      4   \n",
       "d    3  3  3   3   3   3   3   3   3  3  ...      3  3    3    3     3      3   \n",
       "num  1  4  4  10  10  20  20  35  35  1  ...  12341  1  120  560  8436  43680   \n",
       "\n",
       "         68      69       70       71  \n",
       "n         6       7        8        9  \n",
       "k         4       4        4        4  \n",
       "d         3       3        3        3  \n",
       "num  240464  862924  2963220  8171255  \n",
       "\n",
       "[4 rows x 27 columns]"
      ]
     },
     "metadata": {},
     "output_type": "display_data"
    }
   ],
   "source": [
    "from math import comb\n",
    "from itertools import product\n",
    "import pandas as pd\n",
    "def gen_elements(n, k, d):\n",
    "    poly = jnp.array([n ** i for i in range(k - 1)], dtype=jnp.int32)\n",
    "    pows = jnp.arange(k - 1, dtype=jnp.int32)[::-1]\n",
    "    parity = 1 if n % 2 == 1 else 2\n",
    "    coefs = jnp.dot(parity ** pows, poly)\n",
    "    dom = ((n - parity) * coefs) // 2 + parity ** (k - 1)\n",
    "    return comb(dom + (d - 1), d)\n",
    "\n",
    "nn = jnp.arange(1, 10)\n",
    "kk = jnp.arange(1, 5)\n",
    "dd = jnp.array([2, 3])\n",
    "\n",
    "df = []\n",
    "for d, k, n in product(dd, kk, nn):\n",
    "    df.append([n, k, d, gen_elements(n, k, d)])\n",
    "\n",
    "df = pd.DataFrame(df, columns=['n', 'k', 'd', 'num'])\n",
    "\n",
    "display(df.query('d == 2 and k > 1').T)\n",
    "display(df.query('d == 3 and k > 1').T)"
   ]
  },
  {
   "cell_type": "code",
   "execution_count": 12,
   "metadata": {},
   "outputs": [
    {
     "name": "stderr",
     "output_type": "stream",
     "text": [
      "Krylov Solving for Equivariant Subspace r<=10: 100%|██████████| 100/100 [00:00<00:00, 120.06it/s]               \n",
      "Krylov Solving for Equivariant Subspace r<=20: 100%|██████████| 100/100 [00:00<00:00, 110.06it/s] \n"
     ]
    },
    {
     "name": "stdout",
     "output_type": "stream",
     "text": [
      "1.56e-04\n",
      "[-197. -179. -144. -134. -105.  -75.  -62.  -60.  -53.  -26.   66.   67.\n",
      "   79.  273.  338.]\n",
      "\n",
      "(6561, 15)\n"
     ]
    },
    {
     "data": {
      "image/png": "[encoded data removed]",
      "text/plain": [
       "<Figure size 800x600 with 2 Axes>"
      ]
     },
     "metadata": {},
     "output_type": "display_data"
    }
   ],
   "source": [
    "# Q = (T(1) >> T(1))(Sq(n)).equivariant_basis()\n",
    "Q = (T(2))(Sq(n)).equivariant_basis()\n",
    "\n",
    "def visualize(Q, shape):\n",
    "    v = np.random.default_rng(127).standard_normal(Q.shape[0])\n",
    "    v_proj = Q @ (Q.T @ v)\n",
    "    eps = 1e-2\n",
    "    uniq = []\n",
    "    while len(uniq) != Q.shape[-1]:\n",
    "        uniq, v = np.unique(np.rint(v_proj / eps), return_inverse=True)\n",
    "        eps /= 2\n",
    "\n",
    "    print(f'{eps:.2e}')\n",
    "    print(uniq)\n",
    "    print()\n",
    "    v = v.reshape(shape)\n",
    "\n",
    "    print(Q.shape)\n",
    "\n",
    "    sns.heatmap(v, cmap=sns.color_palette('rho_spectra', Q.shape[-1]))\n",
    "    return v_proj, v\n",
    "\n",
    "v_proj, v = visualize(Q, (n ** 2, n ** 2))"
   ]
  },
  {
   "cell_type": "code",
   "execution_count": 13,
   "metadata": {},
   "outputs": [
    {
     "name": "stdout",
     "output_type": "stream",
     "text": [
      "0.00011950731\n",
      "0.00014650822\n",
      "0.0001167655\n",
      "0.00017428398\n",
      "0.0001155138\n",
      "0.00018057227\n",
      "0.00013136864\n"
     ]
    }
   ],
   "source": [
    "M = v_proj.reshape(n ** 2, n ** 2)\n",
    "\n",
    "x = np.random.default_rng(399).normal(1, 3, n ** 2)\n",
    "\n",
    "\n",
    "for gen in Sq(n).discrete_generators:\n",
    "    m1 = (M @ gen.matvec(x)).reshape(n, n)\n",
    "    m2 = gen.matvec(M @ x).reshape(n, n)\n",
    "    md = m1 - m2\n",
    "\n",
    "    if np.max(np.abs(md)) > 1e-3:\n",
    "        print(gen.perm.reshape(n, n))\n",
    "        fig, (ax1, ax2, ax3) = plt.subplots(1, 3, figsize=(12, 3.5))\n",
    "        sns.heatmap(m1, ax=ax1)\n",
    "        sns.heatmap(m2, ax=ax2)\n",
    "        sns.heatmap(md, ax=ax3)\n",
    "    else:\n",
    "        print(np.max(np.abs(md)))"
   ]
  },
  {
   "cell_type": "code",
   "execution_count": 14,
   "metadata": {},
   "outputs": [
    {
     "data": {
      "image/png": "[encoded data removed]",
      "text/plain": [
       "<Figure size 400x400 with 1 Axes>"
      ]
     },
     "metadata": {},
     "output_type": "display_data"
    }
   ],
   "source": [
    "fig, ax = plt.subplots(figsize=(4, 4))\n",
    "margin = 0.02\n",
    "\n",
    "\n",
    "for comp, c in zip(range(Q.shape[-1]), sns.color_palette('turbo', Q.shape[-1])):\n",
    "    for y1, x1, y2, x2 in zip(*np.nonzero((v == comp).reshape(n, n, n, n))):\n",
    "        if (x1, y1) == (0, n - 1):\n",
    "            plt.text(x2, y2, s=f'{comp:>2}', color=c, alpha=1, fontdict={'weight': 'bold'})\n",
    "            # width = 0.005\n",
    "            # head_width = 0.1\n",
    "            # head_length = 1 * head_width\n",
    "            # plt.arrow(x1, 3 - y1, (1 - margin) * (x2 - x1), (1 - margin) * -(y2 - y1), shape='full', length_includes_head=True, width=width, color=c, head_width=head_width, head_length=head_length)\n",
    "\n",
    "# plt.legend()\n",
    "ax.set_xlim(-0.1, (n - 1) - .1)\n",
    "ax.set_ylim(-0.1, (n - 1) - .1)\n",
    "ax.set_xticklabels([])\n",
    "ax.set_yticklabels([]);"
   ]
  },
  {
   "cell_type": "code",
   "execution_count": null,
   "metadata": {},
   "outputs": [],
   "source": [
    "n = 8\n",
    "B = (T(1) >> T(1))(Cu(n)).equivariant_basis()\n",
    "jnp.save(f'precomputed/equiv_basis_{n}.npy', np.array(B))"
   ]
  },
  {
   "cell_type": "code",
   "execution_count": null,
   "metadata": {},
   "outputs": [],
   "source": []
  },
  {
   "cell_type": "code",
   "execution_count": null,
   "metadata": {},
   "outputs": [],
   "source": []
  },
  {
   "cell_type": "code",
   "execution_count": null,
   "metadata": {},
   "outputs": [],
   "source": []
  },
  {
   "cell_type": "code",
   "execution_count": null,
   "metadata": {},
   "outputs": [],
   "source": []
  },
  {
   "cell_type": "code",
   "execution_count": null,
   "metadata": {},
   "outputs": [],
   "source": [
    "class PatchPerm(emlp.Group):\n",
    "    def __init__(self, n: int):\n",
    "        base = jnp.arange(n * n * n).reshape(n, n, n)\n",
    "\n",
    "        rots = []\n",
    "        flips = []\n",
    "        for ax in range(3):\n",
    "            if ax > 0:\n",
    "                axes = list(range(3))\n",
    "                axes[0], axes[ax] = axes[ax], axes[0]\n",
    "                rots.append(jnp.permute_dims(base, axes=axes))\n",
    "            flips.append(jnp.flip(base, ax))\n",
    "\n",
    "        perms = rearrange(jnp.array([rots + flips]), '1 b nx ny nz -> b (nx ny nz)')\n",
    "        self.discrete_generators = [LazyPerm(perm) for perm in perms]\n",
    "        super().__init__(n)\n",
    "\n",
    "P3 = PatchPerm(3)"
   ]
  },
  {
   "cell_type": "code",
   "execution_count": null,
   "metadata": {},
   "outputs": [],
   "source": [
    "b_p = (T(1) >> T(0))(P3).equivariant_basis()\n",
    "visualize(b_p, (9, 3))"
   ]
  },
  {
   "cell_type": "code",
   "execution_count": null,
   "metadata": {},
   "outputs": [],
   "source": [
    "kinds = np.array(\n",
    "    [\n",
    "        [[1, 2, 1], [2, 3, 2], [1, 2, 1]],\n",
    "        [[2, 3, 2], [3, 0, 3], [2, 3, 2]],\n",
    "        [[1, 2, 1], [2, 3, 2], [1, 2, 1]],\n",
    "    ]\n",
    ").reshape(-1)\n",
    "\n",
    "basis = [kinds == k for k in range(max(kinds) + 1)]\n",
    "basis = jnp.array(basis, dtype=jnp.bfloat16)\n",
    "\n",
    "basis @ basis.T"
   ]
  },
  {
   "cell_type": "code",
   "execution_count": null,
   "metadata": {},
   "outputs": [],
   "source": [
    "b_pt = (T(1) >> T(0))(Cu(3)).equivariant_basis()\n",
    "\n",
    "visualize(b_pt, (9, 3))"
   ]
  },
  {
   "cell_type": "code",
   "execution_count": null,
   "metadata": {},
   "outputs": [],
   "source": [
    "import jax.numpy as jnp\n",
    "import numpy as np\n",
    "import jax"
   ]
  },
  {
   "cell_type": "code",
   "execution_count": null,
   "metadata": {},
   "outputs": [],
   "source": [
    "batch = 4\n",
    "chan = 3\n",
    "n = 8\n",
    "dtype = jnp.bfloat16\n",
    "\n",
    "x = jnp.array(np.random.randn(batch, chan, n ** 3) * 0.2, dtype=dtype)\n",
    "x.mean()"
   ]
  },
  {
   "cell_type": "code",
   "execution_count": null,
   "metadata": {},
   "outputs": [],
   "source": [
    "ijk = jnp.transpose(jnp.mgrid[0:n, 0:n, 0:n].astype(jnp.int16)).reshape(-1, 3)\n",
    "sub = ijk[:, None, :] - ijk[None, :, :]\n",
    "sub.shape"
   ]
  },
  {
   "cell_type": "code",
   "execution_count": null,
   "metadata": {},
   "outputs": [],
   "source": [
    "idx = jnp.sort(jnp.minimum(jnp.abs(sub), n - jnp.abs(sub)), axis=-1)\n",
    "orig = idx.shape\n",
    "\n",
    "# uniq, inv = jnp.unique(idx.reshape(-1, 3), axis=0, return_inverse=True)\n",
    "# print(uniq[:5, ...])\n",
    "# print(uniq.shape)\n",
    "\n",
    "dmax = (n) // 2\n",
    "inv2 = (idx @ jnp.array([dmax ** 2, dmax, 1])).astype(jnp.int16)\n",
    "inv2_i, inv2, counts = jnp.unique(inv2.reshape(-1), return_inverse=True, return_counts=True)\n",
    "# jnp.allclose(inv2, inv)\n",
    "print(inv2_i.shape)"
   ]
  },
  {
   "cell_type": "code",
   "execution_count": null,
   "metadata": {},
   "outputs": [],
   "source": [
    "sns.heatmap(inv2.reshape(n, n, n, n, n, n)[0, 0, 0, 0, ...], cmap='rho_heatmap')"
   ]
  },
  {
   "cell_type": "code",
   "execution_count": null,
   "metadata": {},
   "outputs": [],
   "source": [
    "from jax.experimental.sparse import sparsify, BCOO, BCSR\n",
    "\n",
    "basis = jax.nn.one_hot(inv2, inv2_i.shape[0], dtype=jnp.bool_).reshape(*orig[:-1], inv2_i.shape[0])\n",
    "# basis_sp = BCSR.fromdense(basis, n_batch=1)\n",
    "basis_sp = basis\n",
    "basis.shape"
   ]
  },
  {
   "cell_type": "code",
   "execution_count": null,
   "metadata": {},
   "outputs": [],
   "source": [
    "from functools import partial\n",
    "from einops import rearrange\n",
    "from scipy.ndimage import convolve\n",
    "from jax.experimental.sparse import sparsify\n",
    "kernel = jnp.array(np.random.default_rng(123).normal(scale=0.2, size=inv2_i.shape[0]), dtype = jnp.bfloat16)\n",
    "kernel = kernel / counts.astype(jnp.bfloat16)\n",
    "\n",
    "v_and_g = partial(jax.value_and_grad, argnums=1)\n",
    "@jax.jit\n",
    "@sparsify\n",
    "def f1(x, kernel, basis):\n",
    "    return jnp.einsum('bcd,des,s->bce', x, basis, kernel, optimize='optimal')\n",
    "\n",
    "@jax.jit\n",
    "def f2(x, kernel, basis):\n",
    "   conv = jnp.einsum('es,s->e', basis[0, :, :], kernel).reshape(1, 1, n, n, n)\n",
    "   x = x.reshape(batch * chan, 1, n, n, n)\n",
    "   x_tiled = jnp.tile(x, [1, 2, 2, 2])\n",
    "   out = jax.lax.conv_general_dilated(\n",
    "       x_tiled,\n",
    "       conv,\n",
    "       [1, 1, 1],\n",
    "       padding='VALID',\n",
    "       dimension_numbers=('NCDHW', 'OIDHW', 'NCDHW')\n",
    "   )[:, :, :-1, :-1, :-1]\n",
    "   return rearrange(out, '(batch chan) 1 n1 n2 n3 -> batch chan (n1 n2 n3)', batch=batch)\n",
    "\n",
    "from flax.linen import Conv\n",
    "\n",
    "layer = Conv(features=1, kernel_size=(n, n, n), use_bias=False, padding='CIRCULAR', dtype=jnp.bfloat16)\n",
    "\n",
    "\n",
    "@jax.jit\n",
    "def f3(x, kernel, basis):\n",
    "   conv = jnp.einsum('es,s->e', basis[0, :, :], kernel).reshape(n, n, n, 1, 1)\n",
    "   x = rearrange(x, 'batch chan (n1 n2 n3) -> (batch chan) n1 n2 n3 1', n1=n, n2=n, n3=n)\n",
    "   out = layer.apply({'params': {'kernel': conv}}, x)\n",
    "   return rearrange(out, '(batch chan) n1 n2 n3 1 -> batch chan (n1 n2 n3)', batch=batch)\n",
    "\n",
    "\n",
    "res1 = f1(x, kernel, basis)\n",
    "res2 = f2(x, kernel, basis)\n",
    "res3 = f3(x, kernel, basis)\n",
    "\n",
    "print(res1.shape, res2.shape, res3.shape, res1.mean(), res2.mean(), res3.mean())"
   ]
  },
  {
   "cell_type": "code",
   "execution_count": null,
   "metadata": {},
   "outputs": [],
   "source": [
    "%%timeit\n",
    "\n",
    "f1(x, kernel, basis).block_until_ready()"
   ]
  },
  {
   "cell_type": "code",
   "execution_count": null,
   "metadata": {},
   "outputs": [],
   "source": [
    "%%timeit\n",
    "\n",
    "f2(x, kernel, basis).block_until_ready()"
   ]
  },
  {
   "cell_type": "code",
   "execution_count": null,
   "metadata": {},
   "outputs": [],
   "source": [
    "%%timeit\n",
    "\n",
    "f3(x, kernel, basis).block_until_ready"
   ]
  },
  {
   "cell_type": "code",
   "execution_count": null,
   "metadata": {},
   "outputs": [],
   "source": []
  }
 ],
 "metadata": {
  "kernelspec": {
   "display_name": "base",
   "language": "python",
   "name": "python3"
  },
  "language_info": {
   "codemirror_mode": {
    "name": "ipython",
    "version": 3
   },
   "file_extension": ".py",
   "mimetype": "text/x-python",
   "name": "python",
   "nbconvert_exporter": "python",
   "pygments_lexer": "ipython3",
   "version": "3.12.0"
  }
 },
 "nbformat": 4,
 "nbformat_minor": 2
}

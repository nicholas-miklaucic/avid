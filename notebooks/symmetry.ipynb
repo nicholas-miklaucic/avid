{
 "cells": [
  {
   "cell_type": "code",
   "execution_count": 1,
   "metadata": {},
   "outputs": [],
   "source": [
    "from emlp.reps import V,sparsify_basis,T\n",
    "import emlp.groups as groups\n",
    "import emlp\n",
    "import jax.numpy as jnp\n",
    "import numpy as np"
   ]
  },
  {
   "cell_type": "code",
   "execution_count": 2,
   "metadata": {},
   "outputs": [
    {
     "name": "stdout",
     "output_type": "stream",
     "text": [
      "/home/nicholas/programs/avid\n"
     ]
    }
   ],
   "source": [
    "%cd ~/programs/avid"
   ]
  },
  {
   "cell_type": "code",
   "execution_count": 8,
   "metadata": {},
   "outputs": [],
   "source": [
    "import matplotlib.pyplot as plt\n",
    "import rho_plus as rp\n",
    "\n",
    "rp.mpl_setup(False)\n",
    "\n",
    "\n",
    "plt.rcParams['image.cmap'] = 'viridis'\n",
    "plt.rcParams['figure.dpi'] = 100\n",
    "\n",
    "from emlp.reps.linear_operators import LazyPerm\n",
    "from einops import rearrange\n",
    "class CubicPerm(emlp.Group):\n",
    "    def __init__(self, n: int, shift_subgroup: int = 1):\n",
    "        # space group 195, generators are translations + three rotations\n",
    "        assert n % shift_subgroup == 0\n",
    "\n",
    "        base = jnp.arange(n * n * n).reshape(n, n, n)\n",
    "\n",
    "        rots = []\n",
    "        taus = []\n",
    "        for ax in range(3):\n",
    "            rots.append(jnp.flip(base, ax))\n",
    "            taus.append(jnp.roll(base, shift_subgroup, axis=ax))\n",
    "\n",
    "        perms = rearrange(jnp.array([rots + taus]), '1 b nx ny nz -> b (nx ny nz)')\n",
    "        self.discrete_generators = [LazyPerm(perm) for perm in perms]\n",
    "        super().__init__(n)\n"
   ]
  },
  {
   "cell_type": "code",
   "execution_count": 26,
   "metadata": {},
   "outputs": [],
   "source": [
    "import jax\n",
    "\n",
    "\n",
    "Cu = CubicPerm(7)\n",
    "\n",
    "B = (V(Cu) >> V(Cu)).equivariant_basis()\n",
    "\n",
    "# jnp.save('precomputed/equiv_basis_24.npy', np.array(B))"
   ]
  },
  {
   "cell_type": "code",
   "execution_count": 21,
   "metadata": {},
   "outputs": [
    {
     "data": {
      "text/plain": [
       "(117649, 64)"
      ]
     },
     "execution_count": 21,
     "metadata": {},
     "output_type": "execute_result"
    }
   ],
   "source": [
    "B.shape"
   ]
  },
  {
   "cell_type": "code",
   "execution_count": 22,
   "metadata": {},
   "outputs": [
    {
     "data": {
      "text/plain": [
       "117649"
      ]
     },
     "execution_count": 22,
     "metadata": {},
     "output_type": "execute_result"
    }
   ],
   "source": [
    "7 ** 6"
   ]
  },
  {
   "cell_type": "code",
   "execution_count": 35,
   "metadata": {},
   "outputs": [
    {
     "data": {
      "image/png": "[encoded data removed]",
      "text/plain": [
       "<Figure size 800x600 with 1 Axes>"
      ]
     },
     "metadata": {},
     "output_type": "display_data"
    }
   ],
   "source": [
    "C = CubicPerm(3)\n",
    "\n",
    "\n",
    "rep = V(C)\n",
    "emlp.vis(rep, T(1)(C))\n",
    "\n",
    "plt.gca().set_frame_on(False)"
   ]
  },
  {
   "cell_type": "code",
   "execution_count": null,
   "metadata": {},
   "outputs": [],
   "source": []
  }
 ],
 "metadata": {
  "kernelspec": {
   "display_name": "base",
   "language": "python",
   "name": "python3"
  },
  "language_info": {
   "codemirror_mode": {
    "name": "ipython",
    "version": 3
   },
   "file_extension": ".py",
   "mimetype": "text/x-python",
   "name": "python",
   "nbconvert_exporter": "python",
   "pygments_lexer": "ipython3",
   "version": "3.12.0"
  }
 },
 "nbformat": 4,
 "nbformat_minor": 2
}
